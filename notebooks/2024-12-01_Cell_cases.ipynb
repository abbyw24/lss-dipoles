{
 "cells": [
  {
   "cell_type": "code",
   "execution_count": 1,
   "id": "113c6bdf-33ee-4513-ba7f-9f87778425be",
   "metadata": {},
   "outputs": [],
   "source": [
    "%load_ext autoreload\n",
    "%autoreload 2\n",
    "%matplotlib inline"
   ]
  },
  {
   "cell_type": "code",
   "execution_count": 2,
   "id": "e6c3d76c-c865-4300-be45-2945b188ef7b",
   "metadata": {},
   "outputs": [],
   "source": [
    "import numpy as np\n",
    "import matplotlib.pyplot as plt\n",
    "import matplotlib as mpl\n",
    "import healpy as hp\n",
    "import astropy.units as u\n",
    "from astropy.coordinates import SkyCoord\n",
    "import glob\n",
    "import os\n",
    "import sys\n",
    "\n",
    "sys.path.insert(0, '/home/aew492/lss-dipoles/code')\n",
    "import tools\n",
    "import generate_mocks as gm\n",
    "import dipole"
   ]
  },
  {
   "cell_type": "markdown",
   "id": "ebf1d3d7-6b23-436b-9d77-cd333c18e400",
   "metadata": {},
   "source": [
    "#### questions\n",
    "1. Under what conditions do we need to regularize / when is regularization justified?\n",
    "2. What impact does \"excess\" power and shot noise have on the measured $C_\\ell$ and measured $a_{\\ell m}$?\n",
    "3. Confirm that the measured $a_{\\ell m}$ coefficients are unbiased, but that the measured $C_\\ell$ are positively biased?"
   ]
  },
  {
   "cell_type": "markdown",
   "id": "f6426215-b473-4474-a832-8c9107d880d4",
   "metadata": {},
   "source": [
    "#### helper function"
   ]
  },
  {
   "cell_type": "code",
   "execution_count": 20,
   "id": "ceb77afe-9cb6-4c9a-8adb-2f891f2a61c1",
   "metadata": {},
   "outputs": [],
   "source": [
    "def get_mock_fns(set_name, result_type, excess_mode, selfunc_mode, dipamp, base_rate):\n",
    "    dir_results = os.path.join(f'/scratch/aew492/lss-dipoles_results/results/results_mocks', set_name)\n",
    "    pattern = f\"{dir_results}/{result_type}*_case-{excess_mode}-{selfunc_mode}-{dipamp:.4f}-{base_rate:.3f}*.npy\"\n",
    "    fns_mock = glob.glob(pattern)\n",
    "    print(f\"found {len(fns_mock)} files for this mock case: {pattern}\")\n",
    "    return fns_mock"
   ]
  },
  {
   "cell_type": "markdown",
   "id": "022529aa-c27d-4dcf-8d41-db63144a1b24",
   "metadata": {},
   "source": [
    "#### Case 1. shot noise on the full sky"
   ]
  },
  {
   "cell_type": "code",
   "execution_count": 31,
   "id": "dbf02a6c-48c2-4d25-8f04-17eb3b4eb926",
   "metadata": {},
   "outputs": [
    {
     "name": "stdout",
     "output_type": "stream",
     "text": [
      "found 12 files for this mock case: /scratch/aew492/lss-dipoles_results/results/results_mocks/shot_noise_catwise/Cells_Lambda-0.0e+00*_case-zeros-ones-0.0000-72.420*.npy\n",
      "found 12 files for this mock case: /scratch/aew492/lss-dipoles_results/results/results_mocks/shot_noise_catwise/Cells_Lambda-1.0e-06*_case-zeros-ones-0.0000-72.420*.npy\n",
      "found 12 files for this mock case: /scratch/aew492/lss-dipoles_results/results/results_mocks/shot_noise_catwise/Cells_Lambda-1.0e-03*_case-zeros-ones-0.0000-72.420*.npy\n",
      "found 12 files for this mock case: /scratch/aew492/lss-dipoles_results/results/results_mocks/shot_noise_catwise/Cells_Lambda-1.0e-02*_case-zeros-ones-0.0000-72.420*.npy\n",
      "found 12 files for this mock case: /scratch/aew492/lss-dipoles_results/results/results_mocks/shot_noise_catwise/Cells_Lambda-1.0e-01*_case-zeros-ones-0.0000-72.420*.npy\n"
     ]
    }
   ],
   "source": [
    "Lambdas = [0., 1e-6, 1e-3, 1e-2, 1e-1]\n",
    "set_name = 'shot_noise_catwise'\n",
    "\n",
    "Cells_res = []\n",
    "for i, Lambda in enumerate(Lambdas):\n",
    "    fns = get_mock_fns(set_name, f'Cells_Lambda-{Lambda:.1e}', 'zeros', 'ones', 0., 72.42)\n",
    "    \n",
    "    Cells = []\n",
    "    for i, fn in enumerate(fns):\n",
    "        res = np.load(fn, allow_pickle=True).item()\n",
    "        Cells.append(res['Cells'][1:])\n",
    "    ells = res['ells'][1:]\n",
    "    \n",
    "    mean_Cells = np.mean(np.array(Cells), axis=0)\n",
    "    std_Cells = np.std(np.array(Cells), axis=0)\n",
    "\n",
    "    res_dict = {\n",
    "        'ells' : ells,\n",
    "        'Cells' : Cells,\n",
    "        'mean_Cells' : mean_Cells,\n",
    "        'std_Cells' : std_Cells,\n",
    "        'Lambda' : Lambda\n",
    "    }\n",
    "    Cells_res.append(res_dict)"
   ]
  },
  {
   "cell_type": "code",
   "execution_count": 32,
   "id": "a88bd1df-ec91-4389-9693-bc7140d0fcfd",
   "metadata": {},
   "outputs": [
    {
     "ename": "ValueError",
     "evalue": "Invalid vmin or vmax",
     "output_type": "error",
     "traceback": [
      "\u001b[0;31m---------------------------------------------------------------------------\u001b[0m",
      "\u001b[0;31mValueError\u001b[0m                                Traceback (most recent call last)",
      "Cell \u001b[0;32mIn[32], line 8\u001b[0m\n\u001b[1;32m      6\u001b[0m \u001b[38;5;28;01mfor\u001b[39;00m res_dict \u001b[38;5;129;01min\u001b[39;00m Cells_res:\n\u001b[1;32m      7\u001b[0m     Lambda \u001b[38;5;241m=\u001b[39m res_dict[\u001b[38;5;124m'\u001b[39m\u001b[38;5;124mLambda\u001b[39m\u001b[38;5;124m'\u001b[39m]\n\u001b[0;32m----> 8\u001b[0m     ax\u001b[38;5;241m.\u001b[39merrorbar(ells, res_dict[\u001b[38;5;124m'\u001b[39m\u001b[38;5;124mmean_Cells\u001b[39m\u001b[38;5;124m'\u001b[39m], yerr\u001b[38;5;241m=\u001b[39mres_dict[\u001b[38;5;124m'\u001b[39m\u001b[38;5;124mstd_Cells\u001b[39m\u001b[38;5;124m'\u001b[39m], c\u001b[38;5;241m=\u001b[39m\u001b[43msmap\u001b[49m\u001b[38;5;241;43m.\u001b[39;49m\u001b[43mto_rgba\u001b[49m\u001b[43m(\u001b[49m\u001b[43mLambda\u001b[49m\u001b[43m)\u001b[49m,\n\u001b[1;32m      9\u001b[0m                 label\u001b[38;5;241m=\u001b[39m\u001b[38;5;124m'\u001b[39m\u001b[38;5;124m$\u001b[39m\u001b[38;5;124m\\\u001b[39m\u001b[38;5;124mLambda=$\u001b[39m\u001b[38;5;124m'\u001b[39m\u001b[38;5;124mf\u001b[39m\u001b[38;5;124m'\u001b[39m\u001b[38;5;132;01m{\u001b[39;00mLambda\u001b[38;5;132;01m:\u001b[39;00m\u001b[38;5;124m.1e\u001b[39m\u001b[38;5;132;01m}\u001b[39;00m\u001b[38;5;124m'\u001b[39m, \u001b[38;5;241m*\u001b[39m\u001b[38;5;241m*\u001b[39mkwargs)\n\u001b[1;32m     11\u001b[0m ax\u001b[38;5;241m.\u001b[39msemilogy()\n\u001b[1;32m     12\u001b[0m ax\u001b[38;5;241m.\u001b[39mgrid(alpha\u001b[38;5;241m=\u001b[39m\u001b[38;5;241m0.5\u001b[39m, lw\u001b[38;5;241m=\u001b[39m\u001b[38;5;241m0.5\u001b[39m)\n",
      "File \u001b[0;32m/ext3/miniconda3/lib/python3.10/site-packages/matplotlib/cm.py:493\u001b[0m, in \u001b[0;36mScalarMappable.to_rgba\u001b[0;34m(self, x, alpha, bytes, norm)\u001b[0m\n\u001b[1;32m    491\u001b[0m x \u001b[38;5;241m=\u001b[39m ma\u001b[38;5;241m.\u001b[39masarray(x)\n\u001b[1;32m    492\u001b[0m \u001b[38;5;28;01mif\u001b[39;00m norm:\n\u001b[0;32m--> 493\u001b[0m     x \u001b[38;5;241m=\u001b[39m \u001b[38;5;28;43mself\u001b[39;49m\u001b[38;5;241;43m.\u001b[39;49m\u001b[43mnorm\u001b[49m\u001b[43m(\u001b[49m\u001b[43mx\u001b[49m\u001b[43m)\u001b[49m\n\u001b[1;32m    494\u001b[0m rgba \u001b[38;5;241m=\u001b[39m \u001b[38;5;28mself\u001b[39m\u001b[38;5;241m.\u001b[39mcmap(x, alpha\u001b[38;5;241m=\u001b[39malpha, \u001b[38;5;28mbytes\u001b[39m\u001b[38;5;241m=\u001b[39m\u001b[38;5;28mbytes\u001b[39m)\n\u001b[1;32m    495\u001b[0m \u001b[38;5;28;01mreturn\u001b[39;00m rgba\n",
      "File \u001b[0;32m/ext3/miniconda3/lib/python3.10/site-packages/matplotlib/colors.py:1711\u001b[0m, in \u001b[0;36m_make_norm_from_scale.<locals>.Norm.__call__\u001b[0;34m(self, value, clip)\u001b[0m\n\u001b[1;32m   1709\u001b[0m t_vmin, t_vmax \u001b[38;5;241m=\u001b[39m \u001b[38;5;28mself\u001b[39m\u001b[38;5;241m.\u001b[39m_trf\u001b[38;5;241m.\u001b[39mtransform([\u001b[38;5;28mself\u001b[39m\u001b[38;5;241m.\u001b[39mvmin, \u001b[38;5;28mself\u001b[39m\u001b[38;5;241m.\u001b[39mvmax])\n\u001b[1;32m   1710\u001b[0m \u001b[38;5;28;01mif\u001b[39;00m \u001b[38;5;129;01mnot\u001b[39;00m np\u001b[38;5;241m.\u001b[39misfinite([t_vmin, t_vmax])\u001b[38;5;241m.\u001b[39mall():\n\u001b[0;32m-> 1711\u001b[0m     \u001b[38;5;28;01mraise\u001b[39;00m \u001b[38;5;167;01mValueError\u001b[39;00m(\u001b[38;5;124m\"\u001b[39m\u001b[38;5;124mInvalid vmin or vmax\u001b[39m\u001b[38;5;124m\"\u001b[39m)\n\u001b[1;32m   1712\u001b[0m t_value \u001b[38;5;241m-\u001b[39m\u001b[38;5;241m=\u001b[39m t_vmin\n\u001b[1;32m   1713\u001b[0m t_value \u001b[38;5;241m/\u001b[39m\u001b[38;5;241m=\u001b[39m (t_vmax \u001b[38;5;241m-\u001b[39m t_vmin)\n",
      "\u001b[0;31mValueError\u001b[0m: Invalid vmin or vmax"
     ]
    },
    {
     "data": {
      "image/png": "[encoded data removed]",
      "text/plain": [
       "<Figure size 700x500 with 1 Axes>"
      ]
     },
     "metadata": {},
     "output_type": "display_data"
    }
   ],
   "source": [
    "fig, ax = plt.subplots(figsize=(7,5), tight_layout=True)\n",
    "norm = mpl.colors.LogNorm(vmin=min(Lambdas), vmax=max(Lambdas))\n",
    "smap = mpl.cm.ScalarMappable(norm=norm, cmap='cool')\n",
    "\n",
    "kwargs = dict(marker='s', ls='None', capsize=2, lw=0.5, alpha=0.7)\n",
    "for res_dict in Cells_res:\n",
    "    Lambda = res_dict['Lambda']\n",
    "    ax.errorbar(ells, res_dict['mean_Cells'], yerr=res_dict['std_Cells'], c=smap.to_rgba(Lambda),\n",
    "                label='$\\Lambda=$'f'{Lambda:.1e}', **kwargs)\n",
    "\n",
    "ax.semilogy()\n",
    "ax.grid(alpha=0.5, lw=0.5)\n",
    "ax.set_xlabel(r'Multipole $\\ell$')\n",
    "ax.set_ylabel('$C(\\ell)$')\n",
    "ax.legend()\n",
    "ax.set_title(f'Recovered Cells, {set_name}')"
   ]
  },
  {
   "cell_type": "code",
   "execution_count": null,
   "id": "662cab8c-a370-4cbe-a66a-7379eb4d7129",
   "metadata": {},
   "outputs": [],
   "source": []
  }
 ],
 "metadata": {
  "kernelspec": {
   "display_name": "ood_env",
   "language": "python",
   "name": "ood_env"
  },
  "language_info": {
   "codemirror_mode": {
    "name": "ipython",
    "version": 3
   },
   "file_extension": ".py",
   "mimetype": "text/x-python",
   "name": "python",
   "nbconvert_exporter": "python",
   "pygments_lexer": "ipython3",
   "version": "3.10.11"
  }
 },
 "nbformat": 4,
 "nbformat_minor": 5
}
