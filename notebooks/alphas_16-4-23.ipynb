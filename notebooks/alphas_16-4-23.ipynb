{
 "cells": [
  {
   "cell_type": "code",
   "execution_count": 2,
   "metadata": {},
   "outputs": [],
   "source": [
    "%load_ext autoreload\n",
    "%autoreload 2"
   ]
  },
  {
   "cell_type": "code",
   "execution_count": 3,
   "metadata": {},
   "outputs": [],
   "source": [
    "import numpy as np\n",
    "import matplotlib.pyplot as plt\n",
    "import os\n",
    "import sys\n",
    "from astropy.table import Table"
   ]
  },
  {
   "cell_type": "markdown",
   "metadata": {},
   "source": [
    "$$\n",
    "\\alpha = -\\frac{d\\log S_\\nu}{d\\log\\nu}\n",
    "$$\n",
    "\n",
    "For each source:\n",
    "1. Compute the AB magnitude (B-R)_AB from the given BP and RP mags (Vega system)\n",
    "2. Convert AB magnitude to flux: $\\Delta\\log S_\\nu = -(1/2.5)(B-R)_{\\mathrm{AB}}$\n",
    "3. Inverse of the wavelength ratio to get frequencies: $\\Delta\\log\\nu = \\log(\\lambda_R/\\lambda_B)$\n",
    "4. Compute alpha: $\\alpha = -(\\Delta\\log S_\\nu)/(\\Delta\\log\\nu)$"
   ]
  },
  {
   "cell_type": "code",
   "execution_count": 4,
   "metadata": {},
   "outputs": [],
   "source": [
    "def Vega_to_AB(BR_Vega, offset=-0.3250):  # offset computed from Gaia photometric zero points\n",
    "    return BR_Vega + offset"
   ]
  },
  {
   "cell_type": "code",
   "execution_count": 5,
   "metadata": {},
   "outputs": [],
   "source": [
    "def compute_alpha(B, R, lambda_B=505.15, lambda_R=772.62):\n",
    "    \"\"\"\n",
    "    Compute the spectral slope alpha for a source with given BP and RP magnitudes.\n",
    "    PARAMETERS:\n",
    "    - B = BP magnitude (Vega system)\n",
    "    - R = RP magnitude (Vega system)\n",
    "    - lambda_B = wavelength (nm) of blue passband (default is the \"pivot wavelength\" given by Gaia)\n",
    "    - lambda_R = wavelength (nm) of red passband (\")\n",
    "    \"\"\"\n",
    "    # convert given (B-R)_Vega to AB color (B-R)_AB\n",
    "    BR_AB = Vega_to_AB(B-R)\n",
    "    # convert AB mag to flux\n",
    "    DeltalogS_nu = -(1/2.5)*BR_AB\n",
    "    # frequencies\n",
    "    Deltalognu = np.log10(lambda_R/lambda_B)\n",
    "    # compute alpha\n",
    "    alpha = -DeltalogS_nu/Deltalognu\n",
    "    return alpha"
   ]
  },
  {
   "cell_type": "code",
   "execution_count": 15,
   "metadata": {},
   "outputs": [],
   "source": [
    "def compute_alpha2(B, R, lambda_B=505.15, lambda_R=772.62):\n",
    "    \"\"\"\n",
    "    Compute the spectral slope alpha for a source with given BP and RP magnitudes.\n",
    "    PARAMETERS:\n",
    "    - B = BP magnitude (Vega system)\n",
    "    - R = RP magnitude (Vega system)\n",
    "    - lambda_B = wavelength (nm) of blue passband (default is the \"pivot wavelength\" given by Gaia)\n",
    "    - lambda_R = wavelength (nm) of red passband (\")\n",
    "    \"\"\"\n",
    "    # convert given (B-R)_Vega to AB color (B-R)_AB\n",
    "    BR_AB = Vega_to_AB(B-R)\n",
    "    \n",
    "    alpha = BR_AB/(2.5*np.log10(lambda_R/lambda_B))\n",
    "\n",
    "    return alpha"
   ]
  },
  {
   "cell_type": "markdown",
   "metadata": {},
   "source": [
    "#### compute $\\alpha$ for the quasars"
   ]
  },
  {
   "cell_type": "code",
   "execution_count": 6,
   "metadata": {},
   "outputs": [
    {
     "data": {
      "text/plain": [
       "1414385"
      ]
     },
     "execution_count": 6,
     "metadata": {},
     "output_type": "execute_result"
    }
   ],
   "source": [
    "# load catalog\n",
    "quasar_fn = '/scratch/aew492/quasars/catalogs/gaia_candidates_clean.fits'\n",
    "data_gaia = Table.read(quasar_fn, format='fits')\n",
    "nd = len(data_gaia)\n",
    "nd"
   ]
  },
  {
   "cell_type": "code",
   "execution_count": 7,
   "metadata": {},
   "outputs": [],
   "source": [
    "# magnitudes\n",
    "bps = data_gaia['phot_bp_mean_mag']\n",
    "rps = data_gaia['phot_rp_mean_mag']"
   ]
  },
  {
   "cell_type": "code",
   "execution_count": 8,
   "metadata": {},
   "outputs": [],
   "source": [
    "alphas = [compute_alpha(bps[i], rps[i]) for i in range(nd)]"
   ]
  },
  {
   "cell_type": "code",
   "execution_count": 14,
   "metadata": {},
   "outputs": [
    {
     "data": {
      "text/plain": [
       "Text(0.5, 1.0, 'Quasar spectral slopes')"
      ]
     },
     "execution_count": 14,
     "metadata": {},
     "output_type": "execute_result"
    },
    {
     "data": {
      "image/png": "[encoded data removed]",
      "text/plain": [
       "<Figure size 600x400 with 1 Axes>"
      ]
     },
     "metadata": {},
     "output_type": "display_data"
    }
   ],
   "source": [
    "# plot distribution\n",
    "fig, ax = plt.subplots(figsize=(6,4))\n",
    "\n",
    "n, bins, _ = ax.hist(alphas, bins=120, alpha=0.8, histtype='stepfilled')\n",
    "\n",
    "ax.set_yscale('log')\n",
    "ax.set_xlabel(r'$\\alpha$')\n",
    "ax.set_ylabel('Sources')\n",
    "ax.set_title('Quasar spectral slopes')"
   ]
  },
  {
   "cell_type": "code",
   "execution_count": 10,
   "metadata": {},
   "outputs": [
    {
     "data": {
      "text/plain": [
       "0.7731874443938453"
      ]
     },
     "execution_count": 10,
     "metadata": {},
     "output_type": "execute_result"
    }
   ],
   "source": [
    "np.mean(alphas)"
   ]
  },
  {
   "cell_type": "code",
   "execution_count": 11,
   "metadata": {},
   "outputs": [
    {
     "data": {
      "text/plain": [
       "0.7104432149422706"
      ]
     },
     "execution_count": 11,
     "metadata": {},
     "output_type": "execute_result"
    }
   ],
   "source": [
    "np.median(alphas)"
   ]
  },
  {
   "cell_type": "code",
   "execution_count": 12,
   "metadata": {},
   "outputs": [
    {
     "data": {
      "text/plain": [
       "array([0.56505426])"
      ]
     },
     "execution_count": 12,
     "metadata": {},
     "output_type": "execute_result"
    }
   ],
   "source": [
    "bins[np.where(n==max(n))]"
   ]
  },
  {
   "cell_type": "code",
   "execution_count": null,
   "metadata": {},
   "outputs": [],
   "source": []
  }
 ],
 "metadata": {
  "kernelspec": {
   "display_name": "my_env",
   "language": "python",
   "name": "my_env"
  },
  "language_info": {
   "codemirror_mode": {
    "name": "ipython",
    "version": 3
   },
   "file_extension": ".py",
   "mimetype": "text/x-python",
   "name": "python",
   "nbconvert_exporter": "python",
   "pygments_lexer": "ipython3",
   "version": "3.10.9"
  }
 },
 "nbformat": 4,
 "nbformat_minor": 4
}
