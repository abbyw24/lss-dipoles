{
 "cells": [
  {
   "cell_type": "code",
   "execution_count": null,
   "metadata": {},
   "outputs": [],
   "source": [
    "%load_ext autoreload\n",
    "%autoreload 2\n",
    "%matplotlib inline"
   ]
  },
  {
   "cell_type": "code",
   "execution_count": null,
   "metadata": {},
   "outputs": [],
   "source": [
    "import numpy as np\n",
    "import matplotlib.pyplot as plt\n",
    "import healpy as hp\n",
    "from astropy.coordinates import SkyCoord\n",
    "import os\n",
    "import sys\n",
    "sys.path.insert(0, '/home/aew492/lss-dipoles')\n",
    "import tools\n",
    "from Secrest_dipole import SecrestDipole\n",
    "from multipoles import multipole_map\n",
    "import dipole"
   ]
  },
  {
   "cell_type": "code",
   "execution_count": null,
   "metadata": {},
   "outputs": [],
   "source": [
    "# fitting function\n",
    "def fit_multipole(map_to_fit, template_maps, Cinv=None, fit_zeros=False, idx=None):\n",
    "    \"\"\"\n",
    "    Fit multipole amplitudes to an input healpix density map.\n",
    "    \n",
    "    Parameters\n",
    "    ----------\n",
    "    map_to_fit : 1D array-like, length npix\n",
    "        Input healpix map.\n",
    "    template_maps : 2D array-like, shape (2 * ell + 1, npix)\n",
    "        Template healpix maps, one for each order m.\n",
    "        Must be in order of increasing m! i.e. [-m,m]\n",
    "    Cinv : array-like, optional\n",
    "        Inverse covariance matrix. If 1D, taken to be the diagonal terms.\n",
    "    fit_zeros : bool, optional\n",
    "        Whether to fit zero-valued pixels in `map_to_fit`. The default is False.\n",
    "    idx : array-like, optional\n",
    "        Pixel indices to fit.\n",
    "    \n",
    "    Returns\n",
    "    -------\n",
    "    bestfit_pars :\n",
    "        The 2 * ell + 1 best-fit amplitudes corresponding to each template map.\n",
    "    bestfit_stderr :\n",
    "        The standard error on the fit.\n",
    "    \n",
    "    \"\"\"\n",
    "    assert map_to_fit.ndim == 1, \"input map must be 1-dimensional\"\n",
    "    assert len(map_to_fit) == template_maps.shape[1], \"input map and template maps must have the same NPIX\"\n",
    "    \n",
    "    NPIX = len(map_to_fit)\n",
    "    # design matrix\n",
    "    A = np.column_stack((np.ones(NPIX), template_maps.T))\n",
    "    # covariances: identity for now\n",
    "    if Cinv is None:\n",
    "        Cinv = np.ones(NPIX)\n",
    "    else:\n",
    "        assert len(Cinv) == NPIX, \"input Cinv and input map must have the same length\"\n",
    "\n",
    "    # indices to fit\n",
    "    idx_to_fit = np.full(NPIX, True)\n",
    "    if fit_zeros is False:\n",
    "        idx_to_fit = idx_to_fit & (map_to_fit!=0.)\n",
    "    if idx is not None:\n",
    "        assert len(idx) == NPIX, \"input idx and input map must have the same length\"\n",
    "        idx_to_fit = idx_to_fit & idx\n",
    "    map_to_fit, A, Cinv = map_to_fit[idx_to_fit], A[idx_to_fit], Cinv[idx_to_fit]\n",
    "\n",
    "    # perform the regression\n",
    "    bestfit_pars, bestfit_Cinv = tools.lstsq(map_to_fit, A, Cinv)\n",
    "\n",
    "    # uncertainties on the best-fit pars\n",
    "    bestfit_stderr = np.sqrt(np.diag(np.linalg.inv(bestfit_Cinv)))\n",
    "\n",
    "    return bestfit_pars, bestfit_stderr"
   ]
  },
  {
   "cell_type": "markdown",
   "metadata": {},
   "source": [
    "### inputs"
   ]
  },
  {
   "cell_type": "code",
   "execution_count": null,
   "metadata": {},
   "outputs": [],
   "source": [
    "NSIDE = 64"
   ]
  },
  {
   "cell_type": "markdown",
   "metadata": {},
   "source": [
    "### load sample"
   ]
  },
  {
   "cell_type": "code",
   "execution_count": null,
   "metadata": {},
   "outputs": [],
   "source": [
    "catwise_kwargs = dict(initial_catfn='catwise_agns_master.fits', catname='catwise_agns', mag='w1',\n",
    "                      blim=30, maglim=16.4, load_init=False)\n",
    "quaia_kwargs = dict(initial_catfn='quaia_G20.0.fits', catname='quaia', mag='G',\n",
    "                    blim=30, maglim=20., save_tag='_r1.0', load_init=False, compcorrect=True)\n",
    "d = SecrestDipole(**catwise_kwargs)\n",
    "map_ = d.load_hpxelatcorr()"
   ]
  },
  {
   "cell_type": "code",
   "execution_count": null,
   "metadata": {},
   "outputs": [],
   "source": [
    "# construct map from source density table\n",
    "map_to_fit = np.empty(hp.nside2npix(NSIDE))\n",
    "map_to_fit[:] = np.nan\n",
    "map_to_fit[map_['hpidx']] = map_['elatdenscorr']\n",
    "mean, std = np.nanmean(map_to_fit), np.nanstd(map_to_fit)\n",
    "fig = plt.figure(figsize=(8,4))\n",
    "hp.mollview(map_to_fit, coord=['C','G'], title=f'Input map: {d.catname}', unit='sources per healpixel',\n",
    "            badcolor='w', min=mean-2*std, max=mean+2*std, fig=fig)\n",
    "hp.graticule()"
   ]
  },
  {
   "cell_type": "markdown",
   "metadata": {},
   "source": [
    "### dipole\n",
    "Check that old and new template maps & fitting functions give identical results!"
   ]
  },
  {
   "cell_type": "code",
   "execution_count": null,
   "metadata": {},
   "outputs": [],
   "source": [
    "# maps as constructed in my dipole fitting functions\n",
    "template_amps = np.column_stack((np.zeros(3), np.diag(np.ones(3)))) # first column for the monopole \n",
    "                                                                    #  since dipole_map() takes 4 input amplitudes\n",
    "old_dipole_templates = np.array([\n",
    "    dipole.dipole_map(amps, NSIDE=NSIDE) for amps in template_amps\n",
    "])\n",
    "\n",
    "fig = plt.figure(figsize=(10,2.5))\n",
    "titles = ['x', 'y', 'z']\n",
    "for i, template in enumerate(old_dipole_templates):\n",
    "    hp.mollview(template, sub=(1,3,i+1), title=titles[i], min=-1, max=1, cmap='coolwarm', fig=fig)\n",
    "fig.suptitle('Dipole templates (old function)')"
   ]
  },
  {
   "cell_type": "code",
   "execution_count": null,
   "metadata": {},
   "outputs": [],
   "source": [
    "# my new template map construction\n",
    "ampss = np.identity(3)\n",
    "new_dipole_templates = np.array([\n",
    "    multipole_map(amps, NSIDE=NSIDE) for amps in ampss\n",
    "])  # multipole_map() assumes ell from len(amps) and assumes that amps are given in order of increasing m\n",
    "\n",
    "fig = plt.figure(figsize=(10,2.5))\n",
    "titles = ['m = -1', 'm = 0', 'm = 1']\n",
    "for i, template in enumerate(new_dipole_templates):\n",
    "    hp.mollview(template, sub=(1,3,i+1), title=titles[i], min=-1, max=1, cmap='coolwarm')\n",
    "fig.suptitle('Dipole templates (new function)')"
   ]
  },
  {
   "cell_type": "code",
   "execution_count": null,
   "metadata": {},
   "outputs": [],
   "source": [
    "# old fitting function: this automatically fits the monopole + 3 dipole templates\n",
    "pars, stderr = dipole.fit_dipole(map_to_fit, idx=~np.isnan(map_to_fit))\n",
    "print(\"best-fit pars: \", pars)\n",
    "\n",
    "# monopole + dipole\n",
    "bestfit_dipmap = dipole.dipole_map(pars, NSIDE=NSIDE)\n",
    "fig = plt.figure(figsize=(7,3))\n",
    "hp.mollview(bestfit_dipmap, coord=['C','G'], title='Recovered dipole', fig=fig)"
   ]
  },
  {
   "cell_type": "code",
   "execution_count": null,
   "metadata": {},
   "outputs": [],
   "source": [
    "# new fitting function: automatically adds the monopole to the design matrix\n",
    "pars, stderr = fit_multipole(map_to_fit, new_dipole_templates, idx=~np.isnan(map_to_fit))\n",
    "print(\"best-fit pars: \", pars)\n",
    "\n",
    "# monopole + dipole\n",
    "bestfit_dipmap = multipole_map(pars[0], NSIDE=NSIDE) + multipole_map(pars[1:], NSIDE=NSIDE)\n",
    "fig = plt.figure(figsize=(7,3))\n",
    "hp.mollview(bestfit_dipmap, coord=['C','G'], title='Recovered dipole', fig=fig)"
   ]
  },
  {
   "cell_type": "code",
   "execution_count": null,
   "metadata": {},
   "outputs": [],
   "source": [
    "amp = np.linalg.norm(pars[1:]/pars[0])\n",
    "# manually tell healpy which parameters correspond to the x, y, and z directions\n",
    "direction = hp.vec2dir(pars[3], vy=pars[1], vz=pars[2])\n",
    "direction = SkyCoord(direction[1], np.pi/2 - direction[0], frame='icrs', unit='rad')\n",
    "amp, direction.galactic"
   ]
  },
  {
   "cell_type": "markdown",
   "metadata": {},
   "source": [
    "Correct fiducial result!"
   ]
  },
  {
   "cell_type": "markdown",
   "metadata": {},
   "source": [
    "### quadrupole"
   ]
  },
  {
   "cell_type": "code",
   "execution_count": null,
   "metadata": {},
   "outputs": [],
   "source": [
    "ampss = np.identity(5)\n",
    "quadrupole_templates = np.array([\n",
    "    multipole_map(amps, NSIDE=NSIDE) for amps in ampss\n",
    "])\n",
    "\n",
    "fig = plt.figure(figsize=(12,2))\n",
    "titles = ['m = -2', 'm = -1', 'm = 0', 'm = 1', 'm = 2']\n",
    "for i, template in enumerate(quadrupole_templates):\n",
    "    hp.mollview(template, sub=(1,5,i+1), title=titles[i], min=-1, max=1, cmap='coolwarm', fig=fig)\n",
    "fig.suptitle('Quadrupole templates')"
   ]
  },
  {
   "cell_type": "code",
   "execution_count": null,
   "metadata": {},
   "outputs": [],
   "source": [
    "# fit to same map as above\n",
    "pars, stderr = fit_multipole(map_to_fit, quadrupole_templates, idx=~np.isnan(map_to_fit))\n",
    "print(\"best-fit pars: \", pars)\n",
    "\n",
    "# quadrupole scaled by the monopole\n",
    "bestfit_map = multipole_map(pars[1:], NSIDE=NSIDE) / pars[0]\n",
    "fig = plt.figure(figsize=(7,3))\n",
    "hp.mollview(bestfit_map, coord=['C','G'], title='Recovered dimensionless quadrupole', fig=fig)"
   ]
  },
  {
   "cell_type": "code",
   "execution_count": null,
   "metadata": {},
   "outputs": [],
   "source": [
    "amp = np.linalg.norm(pars[1:]/pars[0])\n",
    "amp"
   ]
  },
  {
   "cell_type": "markdown",
   "metadata": {},
   "source": [
    "### octupole"
   ]
  },
  {
   "cell_type": "code",
   "execution_count": null,
   "metadata": {},
   "outputs": [],
   "source": [
    "ampss = np.identity(7)\n",
    "octupole_templates = np.array([\n",
    "    multipole_map(amps, NSIDE=NSIDE) for amps in ampss\n",
    "])\n",
    "\n",
    "fig = plt.figure(figsize=(12,1.5))\n",
    "titles = ['m = -3', 'm = -2', 'm = -1', 'm = 0', 'm = 1', 'm = 2', 'm = 3']\n",
    "for i, template in enumerate(octupole_templates):\n",
    "    hp.mollview(template, sub=(1,len(ampss),i+1), title=titles[i], min=-1, max=1, cmap='coolwarm', fig=fig)\n",
    "fig.suptitle('Octupole templates')"
   ]
  },
  {
   "cell_type": "code",
   "execution_count": null,
   "metadata": {},
   "outputs": [],
   "source": [
    "pars, stderr = fit_multipole(map_to_fit, octupole_templates, idx=~np.isnan(map_to_fit))\n",
    "print(\"best-fit pars: \", pars)\n",
    "\n",
    "# octupole scaled by the monopole\n",
    "bestfit_map = multipole_map(pars[1:], NSIDE=NSIDE) / pars[0]\n",
    "fig = plt.figure(figsize=(7,3))\n",
    "hp.mollview(bestfit_map, coord=['C','G'], title='Recovered dimensionless octupole', fig=fig)"
   ]
  },
  {
   "cell_type": "code",
   "execution_count": null,
   "metadata": {},
   "outputs": [],
   "source": [
    "amp = np.linalg.norm(pars[1:]/pars[0])\n",
    "amp"
   ]
  },
  {
   "cell_type": "markdown",
   "metadata": {},
   "source": [
    "### dipole + quadrupole"
   ]
  },
  {
   "cell_type": "code",
   "execution_count": null,
   "metadata": {},
   "outputs": [],
   "source": [
    "templates = np.concatenate([new_dipole_templates, quadrupole_templates])\n",
    "\n",
    "fig = plt.figure(figsize=(15,1.5))\n",
    "for i, template in enumerate(templates):\n",
    "    hp.mollview(template, sub=(1,len(templates),i+1), title='', min=-1, max=1, cmap='coolwarm', fig=fig)\n",
    "fig.suptitle('Dipole + quadrupole templates')"
   ]
  },
  {
   "cell_type": "code",
   "execution_count": null,
   "metadata": {},
   "outputs": [],
   "source": [
    "# fit to same map as above\n",
    "pars, stderr = fit_multipole(map_to_fit, templates, idx=~np.isnan(map_to_fit))\n",
    "print(\"best-fit pars: \", pars)\n",
    "\n",
    "# dipole + quadrupole, scaled by the monopole\n",
    "bestfit_map = (multipole_map(pars[1:4], NSIDE=NSIDE) + multipole_map(pars[4:])) / pars[0]\n",
    "fig = plt.figure(figsize=(7,3))\n",
    "hp.mollview(bestfit_map, coord=['C','G'], title='Recovered dipole + quadrupole', fig=fig)"
   ]
  },
  {
   "cell_type": "code",
   "execution_count": null,
   "metadata": {},
   "outputs": [],
   "source": [
    "# amplitudes\n",
    "np.linalg.norm(pars[1:4])/pars[0], np.linalg.norm(pars[4:])/pars[0]"
   ]
  },
  {
   "cell_type": "markdown",
   "metadata": {},
   "source": [
    "### dipole + quadrupole + octupole"
   ]
  },
  {
   "cell_type": "code",
   "execution_count": null,
   "metadata": {},
   "outputs": [],
   "source": [
    "templates = np.concatenate([new_dipole_templates, quadrupole_templates, octupole_templates])\n",
    "\n",
    "fig = plt.figure(figsize=(14,2.5))\n",
    "for i, template in enumerate(np.concatenate([np.ones_like(templates[0])[None,:], templates])):\n",
    "    hp.mollview(template, sub=(2,round(len(templates)/2),i+1), coord=['C','G'], title='', min=-.6, max=.6, cmap='coolwarm', fig=fig)\n",
    "fig.suptitle('Dipole + quadrupole + octupole templates')"
   ]
  },
  {
   "cell_type": "code",
   "execution_count": null,
   "metadata": {},
   "outputs": [],
   "source": [
    "# fit to same map as above\n",
    "pars, stderr = fit_multipole(map_to_fit, templates, idx=~np.isnan(map_to_fit))\n",
    "print(\"best-fit pars: \", pars)\n",
    "\n",
    "# dipole + quadrupole + octupole, scaled by the monopole\n",
    "bestfit_map = (multipole_map(pars[1:4], NSIDE=NSIDE) + multipole_map(pars[4:9]) + multipole_map(pars[9:])) / pars[0]\n",
    "fig = plt.figure(figsize=(7,3))\n",
    "hp.mollview(bestfit_map, coord=['C','G'], title='Recovered dipole + quadrupole + octupole', fig=fig)"
   ]
  },
  {
   "cell_type": "code",
   "execution_count": null,
   "metadata": {},
   "outputs": [],
   "source": [
    "pars.shape, templates.shape"
   ]
  },
  {
   "cell_type": "code",
   "execution_count": null,
   "metadata": {},
   "outputs": [],
   "source": [
    "hp.mollview((templates.T @ pars[1:]) / pars[0], coord=['C','G'])"
   ]
  },
  {
   "cell_type": "code",
   "execution_count": null,
   "metadata": {},
   "outputs": [],
   "source": [
    "# amplitudes\n",
    "np.linalg.norm(pars[1:4])/pars[0], np.linalg.norm(pars[4:9])/pars[0], np.linalg.norm(pars[9:])/pars[0]"
   ]
  },
  {
   "cell_type": "markdown",
   "metadata": {},
   "source": [
    "### $\\hat{C}_\\ell$\n",
    "\n",
    "Remember that any well-behaved function of $\\theta$ and $\\phi$ can be expressed entirely in terms of spherical harmonics (completeness property):\n",
    "$$\n",
    "f(\\theta,\\phi) = \\sum_{\\ell=0}^{\\infty}\\sum_{m=-\\ell}^{\\ell} a_{\\ell m}\\,Y_\\ell^m\n",
    "$$\n",
    "\n",
    "Define our estimate as\n",
    "$$\n",
    "\\hat{C}_\\ell = \\frac{1}{2\\ell +1}\\,\\sum_{m=-\\ell}^{\\ell} | a_{\\ell m} |^2\n",
    "$$"
   ]
  },
  {
   "cell_type": "code",
   "execution_count": null,
   "metadata": {},
   "outputs": [],
   "source": [
    "templates[0]"
   ]
  },
  {
   "cell_type": "code",
   "execution_count": null,
   "metadata": {},
   "outputs": [],
   "source": [
    "def compute_Cells(amps):\n",
    "    ell = 1\n",
    "    i1 = 0\n",
    "    Cells = np.array([])\n",
    "    while i1 < len(amps):\n",
    "        i2 = i1 + 2 * ell + 1\n",
    "        assert i2 <= len(amps)\n",
    "        print(i1, i2, len(amps))\n",
    "        Cell = compute_Cell(amps[i1:i2])\n",
    "        Cells = np.append(Cells, Cell)\n",
    "        ell += 1\n",
    "        i1 = i2\n",
    "    return Cells"
   ]
  },
  {
   "cell_type": "code",
   "execution_count": null,
   "metadata": {},
   "outputs": [],
   "source": [
    "def compute_Cell(aellems):\n",
    "    \"\"\"\n",
    "    Return the power C(ell) given a list of coefficients a_ellem.\n",
    "    \"\"\"\n",
    "    assert aellems.ndim <= 1\n",
    "    # pad if aellems is a scalar:\n",
    "    if aellems.ndim == 0:\n",
    "        aellems = aellems[..., np.newaxis]\n",
    "    # infer ell from the number of moments 2ell+1\n",
    "    ell = (len(aellems) - 1) // 2\n",
    "    return np.mean(aellems**2)"
   ]
  },
  {
   "cell_type": "code",
   "execution_count": null,
   "metadata": {},
   "outputs": [],
   "source": [
    "# compute full fit of all the amplitudes\n",
    "ells = np.arange(1, 8)\n",
    "templatess = None\n",
    "for i, ell in enumerate(ells):\n",
    "    # construct templates for fit\n",
    "    ampss = np.identity(2 * ell + 1)\n",
    "    templates = np.array([\n",
    "        multipole_map(amps, NSIDE=NSIDE) for amps in ampss\n",
    "    ])  # multipole_map() assumes ell from len(amps) and assumes that amps are given in order of increasing m\n",
    "    if templatess is None:\n",
    "        templatess = templates\n",
    "    else:\n",
    "        templatess = np.concatenate([templatess, templates])\n",
    "    \n",
    "# get the best-fit multipole moments\n",
    "pars, stderr = fit_multipole(map_to_fit, templatess, idx=~np.isnan(map_to_fit))"
   ]
  },
  {
   "cell_type": "code",
   "execution_count": null,
   "metadata": {},
   "outputs": [],
   "source": [
    "# compute Cell \n",
    "Cells = compute_Cells(pars[1:]/pars[0])"
   ]
  },
  {
   "cell_type": "code",
   "execution_count": null,
   "metadata": {},
   "outputs": [],
   "source": [
    "Cells"
   ]
  },
  {
   "cell_type": "code",
   "execution_count": null,
   "metadata": {},
   "outputs": [],
   "source": [
    "fig, ax = plt.subplots(figsize=(6,4))\n",
    "ax.plot(ells, Cells, 'ks')\n",
    "ax.grid(lw=0.5, alpha=0.5)\n",
    "ax.set_xlabel(r'$\\ell$')\n",
    "ax.set_ylabel(r'$\\hat{C}_\\ell$')\n",
    "ax.set_title(f'{d.catname}'r' low-$\\ell$ power spectrum')"
   ]
  },
  {
   "cell_type": "code",
   "execution_count": null,
   "metadata": {},
   "outputs": [],
   "source": [
    "fig, ax = plt.subplots(figsize=(6,4))\n",
    "ax.plot(ells, ells * (ells + 1) * Cells, 'ks')\n",
    "ax.grid(lw=0.5, alpha=0.5)\n",
    "ax.set_xlabel(r'$\\ell$')\n",
    "ax.set_ylabel(r'$\\ell\\,(\\ell +1)\\,\\hat{C}_\\ell$')\n",
    "ax.set_title(f'{d.catname}'r' low-$\\ell$ power spectrum')"
   ]
  },
  {
   "cell_type": "code",
   "execution_count": null,
   "metadata": {},
   "outputs": [],
   "source": [
    "# do nothing below this line\n",
    "assert False"
   ]
  },
  {
   "cell_type": "code",
   "execution_count": null,
   "metadata": {},
   "outputs": [],
   "source": [
    "# other sample\n",
    "d = SecrestDipole(**quaia_kwargs)\n",
    "map_ = d.load_hpxelatcorr()\n",
    "map_to_fit = np.empty(hp.nside2npix(NSIDE))\n",
    "map_to_fit[:] = np.nan\n",
    "map_to_fit[map_['hpidx']] = map_['elatdenscorr']\n",
    "\n",
    "ells = np.arange(1, 8)\n",
    "Cells = np.empty(len(ells))\n",
    "for i, ell in enumerate(ells):\n",
    "    # construct templates for fit\n",
    "    ampss = np.identity(2 * ell + 1)\n",
    "    templates = np.array([\n",
    "        multipole_map(amps, NSIDE=NSIDE) for amps in ampss\n",
    "    ])  # multipole_map() assumes ell from len(amps) and assumes that amps are given in order of increasing m\n",
    "    \n",
    "    # get the best-fit multipole moments\n",
    "    pars, stderr = fit_multipole(map_to_fit, templates, idx=~np.isnan(map_to_fit))\n",
    "    \n",
    "    # compute Cell (exclude monopole)\n",
    "    Cells[i] = compute_Cell(pars[1:])"
   ]
  },
  {
   "cell_type": "code",
   "execution_count": null,
   "metadata": {},
   "outputs": [],
   "source": [
    "fig, ax = plt.subplots(figsize=(6,4))\n",
    "ax.plot(ells, Cells, 'k.-')\n",
    "# ax.plot(ells, ells * (ells + 1) * Cells, 'k.-')\n",
    "ax.grid(lw=0.5, alpha=0.5)\n",
    "ax.set_xlabel(r'$\\ell$')\n",
    "ax.set_ylabel(r'$\\hat{C}_\\ell$')\n",
    "# ax.set_ylabel(r'$\\ell\\,(\\ell +1)\\,\\hat{C}_\\ell$')\n",
    "ax.set_title(f'{d.catname}'r' low-$\\ell$ power spectrum')"
   ]
  },
  {
   "cell_type": "code",
   "execution_count": null,
   "metadata": {},
   "outputs": [],
   "source": []
  }
 ],
 "metadata": {
  "kernelspec": {
   "display_name": "ood_env",
   "language": "python",
   "name": "ood_env"
  },
  "language_info": {
   "codemirror_mode": {
    "name": "ipython",
    "version": 3
   },
   "file_extension": ".py",
   "mimetype": "text/x-python",
   "name": "python",
   "nbconvert_exporter": "python",
   "pygments_lexer": "ipython3",
   "version": "3.10.11"
  }
 },
 "nbformat": 4,
 "nbformat_minor": 4
}
