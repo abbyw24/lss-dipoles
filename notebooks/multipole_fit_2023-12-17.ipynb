{
 "cells": [
  {
   "cell_type": "code",
   "execution_count": null,
   "metadata": {},
   "outputs": [],
   "source": [
    "%load_ext autoreload\n",
    "%autoreload 2\n",
    "%matplotlib inline"
   ]
  },
  {
   "cell_type": "code",
   "execution_count": null,
   "metadata": {},
   "outputs": [],
   "source": [
    "import numpy as np\n",
    "import matplotlib.pyplot as plt\n",
    "import healpy as hp\n",
    "from astropy.coordinates import SkyCoord\n",
    "import os\n",
    "import sys\n",
    "sys.path.insert(0, '/home/aew492/lss-dipoles')\n",
    "import tools\n",
    "from Secrest_dipole import SecrestDipole\n",
    "from multipoles import multipole_map\n",
    "import dipole"
   ]
  },
  {
   "cell_type": "code",
   "execution_count": null,
   "metadata": {},
   "outputs": [],
   "source": [
    "def fit_multipole(map_to_fit, template_maps, Cinv=None, fit_zeros=False, idx=None):\n",
    "    \"\"\"\n",
    "    Fits multipole amplitudes to an input healpix density map.\n",
    "    \n",
    "    Parameters\n",
    "    ----------\n",
    "    map_to_fit : 1D array-like, length npix\n",
    "        Input healpix map.\n",
    "    template_maps : 2D array-like, shape (n,npix)\n",
    "        Y_lm templates to fit.\n",
    "    Cinv : array-like, optional\n",
    "        Inverse covariance matrix. If 1D, taken to be the diagonal terms.\n",
    "    fit_zeros : bool, optional\n",
    "        Whether to fit zero-valued pixels in `map_to_fit`. The default is False.\n",
    "    idx : array-like, optional\n",
    "        Pixel indices to fit.\n",
    "    \n",
    "    Returns\n",
    "    -------\n",
    "    bestfit_pars :\n",
    "        The 2 * ell + 1 best-fit amplitudes corresponding to each template map.\n",
    "    bestfit_stderr :\n",
    "        The standard error on the fit.\n",
    "    \n",
    "    \"\"\"\n",
    "    assert map_to_fit.ndim == 1, \"input map must be 1-dimensional\"\n",
    "    assert len(map_to_fit) == template_maps.shape[1], \"input map and template maps must have the same NPIX\"\n",
    "    \n",
    "    NPIX = len(map_to_fit)\n",
    "    # design matrix\n",
    "    A = template_maps.T\n",
    "    # covariances: identity for now\n",
    "    if Cinv is None:\n",
    "        Cinv = np.ones(NPIX)\n",
    "    else:\n",
    "        assert len(Cinv) == NPIX, \"input Cinv and input map must have the same length\"\n",
    "\n",
    "    # indices to fit\n",
    "    idx_to_fit = np.full(NPIX, True)\n",
    "    if fit_zeros is False:\n",
    "        idx_to_fit = idx_to_fit & (map_to_fit!=0.)\n",
    "    if idx is not None:\n",
    "        assert len(idx) == NPIX, \"input idx and input map must have the same length\"\n",
    "        idx_to_fit = idx_to_fit & idx\n",
    "    map_to_fit, A, Cinv = map_to_fit[idx_to_fit], A[idx_to_fit], Cinv[idx_to_fit]\n",
    "\n",
    "    # perform the regression\n",
    "    bestfit_pars, bestfit_Cinv = tools.lstsq(map_to_fit, A, Cinv)\n",
    "\n",
    "    # uncertainties on the best-fit pars\n",
    "    bestfit_stderr = np.sqrt(np.diag(np.linalg.inv(bestfit_Cinv)))\n",
    "\n",
    "    return bestfit_pars, bestfit_stderr"
   ]
  },
  {
   "cell_type": "code",
   "execution_count": null,
   "metadata": {},
   "outputs": [],
   "source": [
    "def construct_templates(ells, NSIDE=64):\n",
    "    \"\"\"\n",
    "    Returns a (n,npix) array of Y_lm templates; the design matrix used to fit multipoles to a healpix map.\n",
    "    \n",
    "    Parameters\n",
    "    ----------\n",
    "    ells : int or array-like\n",
    "        The degrees to construct.\n",
    "    NSIDE : int, optional\n",
    "        The healpix resolution.\n",
    "    \n",
    "    Returns\n",
    "    -------\n",
    "    templatess : (n,npix) array\n",
    "        The design matrix: each column corresponds to a Ylm template. n is 2ell+1 summed over the input ells.\n",
    "        \n",
    "    \"\"\"\n",
    "    # check/adjust input ells\n",
    "    ells = np.array(ells).astype(int)\n",
    "    assert ells.ndim <= 1\n",
    "    # if input is a single value\n",
    "    if ells.ndim == 0:\n",
    "        ells = ells[...,np.newaxis]\n",
    "    \n",
    "    # construct templates for each ell and append to \n",
    "    n = np.sum([2 * ell + 1 for ell in ells])\n",
    "    templatess = np.empty((n,hp.nside2npix(NSIDE)))\n",
    "    it = 0  # keep track of the column index\n",
    "    for ell in ells:\n",
    "        templates = np.array([\n",
    "            multipole_map(amps, NSIDE=NSIDE) for amps in np.identity(2 * ell + 1)\n",
    "        ])\n",
    "        templatess[it:it + 2 * ell + 1] = templates\n",
    "        it += 2 * ell + 1\n",
    "    \n",
    "    return templatess"
   ]
  },
  {
   "cell_type": "markdown",
   "metadata": {},
   "source": [
    "### inputs"
   ]
  },
  {
   "cell_type": "code",
   "execution_count": null,
   "metadata": {},
   "outputs": [],
   "source": [
    "# inputs used across the entire notebook\n",
    "NSIDE = 64\n",
    "\n",
    "# kwargs for each sample to pass to SecrestDipole() to load\n",
    "catwise_kwargs = dict(initial_catfn='catwise_agns_master.fits', catname='catwise_agns', mag='w1',\n",
    "                      blim=30, maglim=16.4, load_init=False)\n",
    "quaia_kwargs = dict(initial_catfn='quaia_G20.0.fits', catname='quaia', mag='G',\n",
    "                    blim=30, maglim=20., save_tag='_r1.0', load_init=False, compcorrect=True)"
   ]
  },
  {
   "cell_type": "markdown",
   "metadata": {},
   "source": [
    "### load sample"
   ]
  },
  {
   "cell_type": "code",
   "execution_count": null,
   "metadata": {},
   "outputs": [],
   "source": [
    "# This notebook should check for the files and download them from the web if they aren't here"
   ]
  },
  {
   "cell_type": "code",
   "execution_count": null,
   "metadata": {},
   "outputs": [],
   "source": [
    "# load the source density table for the final sample (masked and density-corrected)\n",
    "d = SecrestDipole(**catwise_kwargs)\n",
    "map_ = d.load_hpxelatcorr()"
   ]
  },
  {
   "cell_type": "code",
   "execution_count": null,
   "metadata": {},
   "outputs": [],
   "source": [
    "# construct map from source density table\n",
    "map_to_fit = np.empty(hp.nside2npix(NSIDE))\n",
    "map_to_fit[:] = np.nan\n",
    "map_to_fit[map_['hpidx']] = map_['elatdenscorr']\n",
    "mean, std = np.nanmean(map_to_fit), np.nanstd(map_to_fit)\n",
    "fig = plt.figure(figsize=(8,4))\n",
    "hp.mollview(map_to_fit, coord=['C','G'], title=f'Input map: {d.catname}', unit='sources per healpixel',\n",
    "            badcolor='w', min=mean-2*std, max=mean+2*std, fig=fig)\n",
    "hp.graticule()"
   ]
  },
  {
   "cell_type": "markdown",
   "metadata": {},
   "source": [
    "### monopole"
   ]
  },
  {
   "cell_type": "code",
   "execution_count": null,
   "metadata": {},
   "outputs": [],
   "source": [
    "# construct the monopole template\n",
    "monopole_template = construct_templates(0, NSIDE=NSIDE)"
   ]
  },
  {
   "cell_type": "markdown",
   "metadata": {},
   "source": [
    "### dipole"
   ]
  },
  {
   "cell_type": "code",
   "execution_count": null,
   "metadata": {},
   "outputs": [],
   "source": [
    "# construct dipole templates\n",
    "dipole_templates = construct_templates(1, NSIDE=NSIDE)\n",
    "\n",
    "# plot\n",
    "fig = plt.figure(figsize=(12,2))\n",
    "titles = ['m = -1', 'm = 0', 'm = 1']\n",
    "for i, template in enumerate(dipole_templates):\n",
    "    hp.mollview(template, coord=['C','G'], title=titles[i],\n",
    "                sub=(1,len(titles),i+1), min=-.6, max=.6, cmap='coolwarm', fig=fig)\n",
    "fig.suptitle('Dipole templates', y=1.2)"
   ]
  },
  {
   "cell_type": "code",
   "execution_count": null,
   "metadata": {},
   "outputs": [],
   "source": [
    "# fit a monopole + dipole to the density map we loaded above\n",
    "templates = np.concatenate([monopole_template, dipole_templates])\n",
    "pars, stderr = fit_multipole(map_to_fit, templates, idx=~np.isnan(map_to_fit))\n",
    "print(\"best-fit pars: \", pars)\n",
    "\n",
    "# plot the best-fit map\n",
    "bestfit_dipmap = pars[1:] @ templates[1:] / (pars[0] * templates[0])\n",
    "fig = plt.figure(figsize=(7,3))\n",
    "hp.mollview(bestfit_dipmap, coord=['C','G'], title='Recovered dimensionless dipole', fig=fig)"
   ]
  },
  {
   "cell_type": "code",
   "execution_count": null,
   "metadata": {},
   "outputs": [],
   "source": [
    "# the best-fit monopole amplitude times Y_00 gives us the mean source density in the map\n",
    "0.5 * np.sqrt(1/np.pi) * pars[0]"
   ]
  },
  {
   "cell_type": "code",
   "execution_count": null,
   "metadata": {},
   "outputs": [],
   "source": [
    "# does this recovered amplitude and direction match the old way of doing the fit?\n",
    "amp = np.linalg.norm(pars[1:]/pars[0])\n",
    "# manually tell healpy which parameters correspond to the x, y, and z directions\n",
    "direction = hp.vec2dir(pars[3], vy=pars[1], vz=pars[2])\n",
    "direction = SkyCoord(direction[1], np.pi/2 - direction[0], frame='icrs', unit='rad')\n",
    "amp, direction.galactic"
   ]
  },
  {
   "cell_type": "code",
   "execution_count": null,
   "metadata": {},
   "outputs": [],
   "source": [
    "# The direction is the correct fiducial, but note that the amplitude definition no longer holds..."
   ]
  },
  {
   "cell_type": "markdown",
   "metadata": {},
   "source": [
    "### quadrupole"
   ]
  },
  {
   "cell_type": "code",
   "execution_count": null,
   "metadata": {},
   "outputs": [],
   "source": [
    "# construct quadrupole templates\n",
    "quadrupole_templates = construct_templates(2, NSIDE=NSIDE)\n",
    "\n",
    "# plot\n",
    "fig = plt.figure(figsize=(12,1.5))\n",
    "titles = ['m = -2', 'm = -1', 'm = 0', 'm = 1', 'm = 2']\n",
    "for i, template in enumerate(quadrupole_templates):\n",
    "    hp.mollview(template, coord=['C','G'], title=titles[i],\n",
    "                sub=(1,len(titles),i+1), min=-.6, max=.6, cmap='coolwarm', fig=fig)\n",
    "fig.suptitle('Quadrupole templates', y=1.2)"
   ]
  },
  {
   "cell_type": "code",
   "execution_count": null,
   "metadata": {},
   "outputs": [],
   "source": [
    "# fit a monopole + quadrupole to the density map we loaded above\n",
    "templates = np.concatenate([monopole_template, quadrupole_templates])\n",
    "pars, stderr = fit_multipole(map_to_fit, templates, idx=~np.isnan(map_to_fit))\n",
    "print(\"best-fit pars: \", pars)\n",
    "\n",
    "# plot the best-fit map scaled by the monopole\n",
    "bestfit_quadmap = pars[1:] @ templates[1:] / (pars[0] * templates[0])\n",
    "fig = plt.figure(figsize=(7,3))\n",
    "hp.mollview(bestfit_quadmap, coord=['C','G'], title='Recovered dimensionless quadrupole', fig=fig)"
   ]
  },
  {
   "cell_type": "code",
   "execution_count": null,
   "metadata": {},
   "outputs": [],
   "source": [
    "# what is the dimensionless amplitude?\n",
    "amp = np.linalg.norm(pars[1:]/pars[0])\n",
    "amp"
   ]
  },
  {
   "cell_type": "markdown",
   "metadata": {},
   "source": [
    "### octupole"
   ]
  },
  {
   "cell_type": "code",
   "execution_count": null,
   "metadata": {},
   "outputs": [],
   "source": [
    "# construct octupole templates\n",
    "octupole_templates = construct_templates(3, NSIDE=NSIDE)\n",
    "\n",
    "# plot\n",
    "fig = plt.figure(figsize=(13,1.2))\n",
    "titles = ['m = -3', 'm = -2', 'm = -1', 'm = 0', 'm = 1', 'm = 2', 'm = 3']\n",
    "for i, template in enumerate(octupole_templates):\n",
    "    hp.mollview(template, coord=['C','G'], title=titles[i],\n",
    "                sub=(1,len(titles),i+1), min=-.6, max=.6, cmap='coolwarm', fig=fig)\n",
    "fig.suptitle('Octupole templates', y=1.2)"
   ]
  },
  {
   "cell_type": "code",
   "execution_count": null,
   "metadata": {},
   "outputs": [],
   "source": [
    "# fit a monopole + quadrupole to the density map we loaded above\n",
    "templates = np.concatenate([monopole_template, octupole_templates])\n",
    "pars, stderr = fit_multipole(map_to_fit, templates, idx=~np.isnan(map_to_fit))\n",
    "print(\"best-fit pars: \", pars)\n",
    "\n",
    "# plot the best-fit map scaled by the monopole\n",
    "bestfit_octmap = pars[1:] @ templates[1:] / (pars[0] * templates[0])\n",
    "fig = plt.figure(figsize=(7,3))\n",
    "hp.mollview(bestfit_octmap, coord=['C','G'], title='Recovered dimensionless octupole', fig=fig)"
   ]
  },
  {
   "cell_type": "code",
   "execution_count": null,
   "metadata": {},
   "outputs": [],
   "source": [
    "amp = np.linalg.norm(pars[1:]/pars[0])\n",
    "amp"
   ]
  },
  {
   "cell_type": "markdown",
   "metadata": {},
   "source": [
    "### dipole + quadrupole"
   ]
  },
  {
   "cell_type": "code",
   "execution_count": null,
   "metadata": {},
   "outputs": [],
   "source": [
    "# simultaneously fit a monopole + dipole + quadrupole to the density map we loaded above\n",
    "templates = np.concatenate([monopole_template, dipole_templates, quadrupole_templates])\n",
    "pars, stderr = fit_multipole(map_to_fit, templates, idx=~np.isnan(map_to_fit))\n",
    "print(\"best-fit pars: \", pars)\n",
    "\n",
    "# plot the best-fit map\n",
    "bestfit_map = pars @ templates\n",
    "fig = plt.figure(figsize=(7,3))\n",
    "hp.mollview(bestfit_map, coord=['C','G'], title=r'Recovered $\\ell=0,1,2$', fig=fig)"
   ]
  },
  {
   "cell_type": "markdown",
   "metadata": {},
   "source": [
    "### dipole + quadrupole + octupole"
   ]
  },
  {
   "cell_type": "code",
   "execution_count": null,
   "metadata": {},
   "outputs": [],
   "source": [
    "# simultaneously fit a monopole + dipole + quadrupole + octupole to the density map we loaded above\n",
    "templates = np.concatenate([monopole_template, dipole_templates, quadrupole_templates, octupole_templates])\n",
    "\n",
    "fig = plt.figure(figsize=(10,2))\n",
    "# plot the templates \n",
    "for i, template in enumerate(templates):\n",
    "    hp.mollview(template, coord=['C','G'], title='', sub=(2,round(len(templates)//2),i+1),\n",
    "                min=-.6, max=.6, cmap='coolwarm', fig=fig)\n",
    "fig.suptitle(r'$\\ell=0,1,2,3$ templates')\n",
    "\n",
    "# perform the fit\n",
    "pars, stderr = fit_multipole(map_to_fit, templates, idx=~np.isnan(map_to_fit))\n",
    "print(\"best-fit pars: \", pars)\n",
    "\n",
    "# plot the best-fit map\n",
    "bestfit_map = pars @ templates\n",
    "fig = plt.figure(figsize=(7,3))\n",
    "hp.mollview(bestfit_map, coord=['C','G'], title=r'Recovered $\\ell=0,1,2,3$', fig=fig)"
   ]
  },
  {
   "cell_type": "markdown",
   "metadata": {},
   "source": [
    "### $\\hat{C}_\\ell$\n",
    "\n",
    "Remember that any well-behaved function of $\\theta$ and $\\phi$ can be expressed entirely in terms of spherical harmonics (completeness property):\n",
    "$$\n",
    "f(\\theta,\\phi) = \\sum_{\\ell=0}^{\\infty}\\sum_{m=-\\ell}^{\\ell} a_{\\ell m}\\,Y_{\\ell m}\n",
    "$$\n",
    "\n",
    "Define our estimate as\n",
    "$$\n",
    "\\hat{C}_\\ell = \\frac{1}{2\\ell +1}\\,\\sum_{m=-\\ell}^{\\ell} | a_{\\ell m} |^2\n",
    "$$"
   ]
  },
  {
   "cell_type": "code",
   "execution_count": null,
   "metadata": {},
   "outputs": [],
   "source": [
    "def compute_Cells(amps):\n",
    "    \"\"\"\n",
    "    Returns the power C(ell) for several ells given a list of amplitudes corresponding to the a_lm coefficients\n",
    "    for each ell, increasing from ell=0.\n",
    "    \"\"\"\n",
    "    ell = 0\n",
    "    i1 = 0\n",
    "    Cells = np.array([])\n",
    "    while i1 < len(amps):\n",
    "        i2 = i1 + 2 * ell + 1\n",
    "        assert i2 <= len(amps)\n",
    "        Cell = compute_Cell(amps[i1:i2])\n",
    "        Cells = np.append(Cells, Cell)\n",
    "        ell += 1\n",
    "        i1 = i2\n",
    "    return Cells"
   ]
  },
  {
   "cell_type": "code",
   "execution_count": null,
   "metadata": {},
   "outputs": [],
   "source": [
    "def compute_Cell(alms):\n",
    "    \"\"\"\n",
    "    Returns the power C(ell) given a list of coefficients a_lm for a single ell.\n",
    "    \"\"\"\n",
    "    assert alms.ndim <= 1\n",
    "    # pad if aellems is a scalar:\n",
    "    if alms.ndim == 0:\n",
    "        alms = alms[..., np.newaxis]\n",
    "    # infer ell from the number of moments 2ell+1\n",
    "    ell = (len(alms) - 1) // 2\n",
    "    assert np.mean(alms**2) == np.sum(alms**2)/(2*ell+1)\n",
    "    return np.mean(alms**2)"
   ]
  },
  {
   "cell_type": "code",
   "execution_count": null,
   "metadata": {},
   "outputs": [],
   "source": [
    "# simultaneously fit all low-ell amplitudes\n",
    "ells = np.arange(0, 8)\n",
    "templates = construct_templates(ells, NSIDE=NSIDE)\n",
    "    \n",
    "pars, stderr = fit_multipole(map_to_fit, templates, idx=~np.isnan(map_to_fit))"
   ]
  },
  {
   "cell_type": "code",
   "execution_count": null,
   "metadata": {},
   "outputs": [],
   "source": [
    "# compute Cells, divide by monopole to make dimensionless\n",
    "Cells = compute_Cells(pars/pars[0])"
   ]
  },
  {
   "cell_type": "code",
   "execution_count": null,
   "metadata": {},
   "outputs": [],
   "source": [
    "fig, ax = plt.subplots(figsize=(6,4))\n",
    "ax.plot(ells[1:], Cells[1:], 'ks')\n",
    "ax.axhline(0, c='k', lw=0.5, alpha=0.5)\n",
    "ax.grid(lw=0.5, alpha=0.5)\n",
    "ax.set_ylim((-4e-6,None))\n",
    "ax.set_xlabel(r'$\\ell$')\n",
    "ax.set_ylabel(r'$\\hat{C}_\\ell\\,/\\hat{C}_0$')\n",
    "ax.set_title(f'{d.catname}'r' low-$\\ell$ power spectrum')"
   ]
  },
  {
   "cell_type": "code",
   "execution_count": null,
   "metadata": {},
   "outputs": [],
   "source": [
    "fig, ax = plt.subplots(figsize=(6,4))\n",
    "ax.plot(ells[1:], ells[1:] * (ells[1:] + 1) * Cells[1:], 'ks')\n",
    "ax.axhline(0, c='k', lw=0.5, alpha=0.5)\n",
    "ax.grid(lw=0.5, alpha=0.5)\n",
    "ax.set_xlabel(r'$\\ell$')\n",
    "ax.set_ylabel(r'$\\ell\\,(\\ell +1)\\,\\hat{C}_\\ell\\,/\\hat{C}_0$')\n",
    "ax.set_title(f'{d.catname}'r' low-$\\ell$ power spectrum')"
   ]
  },
  {
   "cell_type": "code",
   "execution_count": null,
   "metadata": {},
   "outputs": [],
   "source": [
    "# fit only monopole and dipole\n",
    "# simultaneously fit all low-ell amplitudes\n",
    "templates = construct_templates([0,1], NSIDE=NSIDE)\n",
    "    \n",
    "pars, stderr = fit_multipole(map_to_fit, templates, idx=~np.isnan(map_to_fit))\n",
    "pars"
   ]
  },
  {
   "cell_type": "code",
   "execution_count": null,
   "metadata": {},
   "outputs": [],
   "source": [
    "compute_Cell(pars[1:])/pars[0]"
   ]
  },
  {
   "cell_type": "code",
   "execution_count": null,
   "metadata": {},
   "outputs": [],
   "source": [
    "# check if the expected combination of new pars/alms and prefactors matches the dipole amplitude that we get\n",
    "#   using the old formula and old pars: 0.015\n",
    "\n",
    "# prefactors\n",
    "A = 0.5 * np.sqrt(1/np.pi)\n",
    "B = 0.5 * np.sqrt(3/(2*np.pi))\n",
    "C = 0.5 * np.sqrt(3/np.pi)\n",
    "D = -0.5 * np.sqrt(3/(2*np.pi))\n",
    "\n",
    "dipamp = np.linalg.norm(np.array([B*pars[1], C*pars[2], D*pars[3]])) / (A*pars[0])\n",
    "dipamp"
   ]
  },
  {
   "cell_type": "code",
   "execution_count": null,
   "metadata": {},
   "outputs": [],
   "source": [
    "A * pars[0]"
   ]
  },
  {
   "cell_type": "code",
   "execution_count": null,
   "metadata": {},
   "outputs": [],
   "source": [
    "np.nanmean(map_to_fit)"
   ]
  },
  {
   "cell_type": "code",
   "execution_count": null,
   "metadata": {},
   "outputs": [],
   "source": []
  }
 ],
 "metadata": {
  "kernelspec": {
   "display_name": "ood_env",
   "language": "python",
   "name": "ood_env"
  },
  "language_info": {
   "codemirror_mode": {
    "name": "ipython",
    "version": 3
   },
   "file_extension": ".py",
   "mimetype": "text/x-python",
   "name": "python",
   "nbconvert_exporter": "python",
   "pygments_lexer": "ipython3",
   "version": "3.10.11"
  }
 },
 "nbformat": 4,
 "nbformat_minor": 4
}
