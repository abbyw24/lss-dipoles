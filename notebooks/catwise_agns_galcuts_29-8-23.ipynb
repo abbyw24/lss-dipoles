{
 "cells": [
  {
   "cell_type": "code",
   "execution_count": 1,
   "metadata": {},
   "outputs": [],
   "source": [
    "%load_ext autoreload\n",
    "%autoreload 2\n",
    "%matplotlib inline"
   ]
  },
  {
   "cell_type": "code",
   "execution_count": 2,
   "metadata": {},
   "outputs": [],
   "source": [
    "import numpy as np\n",
    "import matplotlib.pyplot as plt\n",
    "from astropy.table import Table\n",
    "from astropy.io import fits\n",
    "import os\n",
    "import sys"
   ]
  },
  {
   "cell_type": "markdown",
   "metadata": {},
   "source": [
    "#### load `catwise_agns_corr_masked.fits`\n",
    "\n",
    "This is result of correcting the initial catalogs retrieved from IPAC for extinction, correcting positions and proper motions, making magnitude cuts, and masking using `MASKS_exclude_master_final.fits` (steps 2-3 in `README`)."
   ]
  },
  {
   "cell_type": "code",
   "execution_count": 3,
   "metadata": {},
   "outputs": [],
   "source": [
    "cattab = Table.read(f'/scratch/aew492/quasars/catalogs/catwise2020/catwise_agns_corr_masked.fits', format='fits')"
   ]
  },
  {
   "cell_type": "markdown",
   "metadata": {},
   "source": [
    "#### construct \"master\" catalog\n",
    "\n",
    "This \"master\" catalog will will be a duplicate of `catwise_agns_corr_masked.fits` but with the additional cut `w1cov >= 80`; i.e. a duplicate of `catwise_agns_masked_final.fits` but without the galactic plane cut and keeping all sources $W1\\leq 16.5$."
   ]
  },
  {
   "cell_type": "code",
   "execution_count": 6,
   "metadata": {},
   "outputs": [
    {
     "data": {
      "text/plain": [
       "(9.000860179901123, 16.499999538481237, 0.8000002727136017)"
      ]
     },
     "execution_count": 6,
     "metadata": {},
     "output_type": "execute_result"
    }
   ],
   "source": [
    "min(cattab['w1']), max(cattab['w1']), min(cattab['w1']-cattab['w2'])"
   ]
  },
  {
   "cell_type": "code",
   "execution_count": 7,
   "metadata": {},
   "outputs": [
    {
     "data": {
      "text/plain": [
       "471"
      ]
     },
     "execution_count": 7,
     "metadata": {},
     "output_type": "execute_result"
    }
   ],
   "source": [
    "sum(cattab['w1cov'] < 80)"
   ]
  },
  {
   "cell_type": "code",
   "execution_count": 11,
   "metadata": {},
   "outputs": [
    {
     "data": {
      "text/plain": [
       "<matplotlib.legend.Legend at 0x154531ecae90>"
      ]
     },
     "execution_count": 11,
     "metadata": {},
     "output_type": "execute_result"
    },
    {
     "data": {
      "image/png": "[encoded data removed]",
      "text/plain": [
       "<Figure size 600x400 with 1 Axes>"
      ]
     },
     "metadata": {},
     "output_type": "display_data"
    }
   ],
   "source": [
    "fig, ax = plt.subplots(figsize=(6,4))\n",
    "_, bins, _ = ax.hist(cattab['w12'], bins=100, alpha=0.6)\n",
    "_, _, _ = ax.hist(cattab['w12'][cattab['w1cov'] < 80], bins=bins, color='r', alpha=0.4,\n",
    "                  label='W1cov $<80$')\n",
    "ax.set_yscale('log')\n",
    "ax.set_xlabel('w12')\n",
    "ax.set_ylabel('sources')\n",
    "ax.legend()"
   ]
  },
  {
   "cell_type": "code",
   "execution_count": 12,
   "metadata": {},
   "outputs": [],
   "source": [
    "cattab_ = cattab[cattab['w1cov'] >= 80]"
   ]
  },
  {
   "cell_type": "code",
   "execution_count": 13,
   "metadata": {},
   "outputs": [
    {
     "data": {
      "text/plain": [
       "<TableColumns names=('source_id','ra','dec','sigra','sigdec','sigradec','w1cov','w2cov','meanobsmjd','pmra','pmdec','sigpmra','sigpmdec','ebv','w1','w2','w1e','w2e','w12','w12e','tile','l','b','elon','elat','radius','radius2','pa')>"
      ]
     },
     "execution_count": 13,
     "metadata": {},
     "output_type": "execute_result"
    }
   ],
   "source": [
    "cattab_.columns"
   ]
  },
  {
   "cell_type": "code",
   "execution_count": 15,
   "metadata": {},
   "outputs": [],
   "source": [
    "cattab_.keep_columns(names=('source_id', 'ra', 'dec', 'w1', 'w2', 'w12', 'l', 'b', 'elon', 'elat', 'radius', 'radius2', 'pa'))"
   ]
  },
  {
   "cell_type": "code",
   "execution_count": 16,
   "metadata": {},
   "outputs": [
    {
     "data": {
      "text/html": [
       "<div><i>Table length=3136211</i>\n",
       "<table id=\"table23386934514192\" class=\"table-striped table-bordered table-condensed\">\n",
       "<thead><tr><th>source_id</th><th>ra</th><th>dec</th><th>w1</th><th>w2</th><th>w12</th><th>l</th><th>b</th><th>elon</th><th>elat</th><th>radius</th><th>radius2</th><th>pa</th></tr></thead>\n",
       "<thead><tr><th></th><th>deg</th><th>deg</th><th>mag</th><th>mag</th><th>mag</th><th>deg</th><th>deg</th><th>deg</th><th>deg</th><th></th><th></th><th></th></tr></thead>\n",
       "<thead><tr><th>bytes27</th><th>float64</th><th>float64</th><th>float64</th><th>float64</th><th>float64</th><th>float64</th><th>float64</th><th>float64</th><th>float64</th><th>int64</th><th>int64</th><th>int64</th></tr></thead>\n",
       "<tr><td>0000m016_b0-005603</td><td>359.41333750412764</td><td>-2.167267788407</td><td>16.136144306216387</td><td>14.989762870578096</td><td>1.1463814356382915</td><td>93.36046431987428</td><td>-61.91100125480427</td><td>358.5994638365189</td><td>-1.755045763918577</td><td>0</td><td>0</td><td>0</td></tr>\n",
       "<tr><td>0000m016_b0-010596</td><td>0.5450644041276</td><td>-1.177598988407</td><td>16.410673971552402</td><td>15.369449314290657</td><td>1.0412246572617452</td><td>96.40152494864323</td><td>-61.485784856383</td><td>0.0315948577830099</td><td>-1.2972316580992056</td><td>0</td><td>0</td><td>0</td></tr>\n",
       "<tr><td>0000m016_b0-005401</td><td>359.3693827041276</td><td>-1.7931065884069999</td><td>15.949601848069578</td><td>15.127401231968776</td><td>0.8222006161008029</td><td>93.62288294310186</td><td>-61.555357561551205</td><td>358.7080846825455</td><td>-1.3943010138585823</td><td>0</td><td>0</td><td>0</td></tr>\n",
       "<tr><td>0000m016_b0-008110</td><td>0.0617950041276</td><td>-1.175226988407</td><td>16.42132615067437</td><td>15.139884100371972</td><td>1.2814420503023989</td><td>95.48058894820512</td><td>-61.28840869196749</td><td>359.58916065153176</td><td>-1.102823551893205</td><td>0</td><td>0</td><td>0</td></tr>\n",
       "<tr><td>0000m016_b0-007151</td><td>359.82987120412764</td><td>-1.977838988407</td><td>16.2090501662679</td><td>15.208700110612437</td><td>1.0003500556554634</td><td>94.331730904729</td><td>-61.920453287741665</td><td>359.05694149169165</td><td>-1.7469151408832042</td><td>0</td><td>0</td><td>0</td></tr>\n",
       "<tr><td>0000m016_b0-007695</td><td>359.7304187041276</td><td>-1.2496416884069999</td><td>16.400703154079615</td><td>15.19946876938641</td><td>1.2012343846932048</td><td>94.78964438756488</td><td>-61.21857504577585</td><td>359.255542876</td><td>-1.039288519489612</td><td>0</td><td>0</td><td>0</td></tr>\n",
       "<tr><td>0000m016_b0-006651</td><td>359.65309700412763</td><td>-0.8613792884070001</td><td>16.161107676368207</td><td>15.321738450834527</td><td>0.8393692255336802</td><td>94.9801693285279</td><td>-60.8335987592685</td><td>359.339081045451</td><td>-0.6523166777257233</td><td>0</td><td>0</td><td>0</td></tr>\n",
       "<tr><td>0000m016_b0-001610</td><td>359.3862815041276</td><td>-1.414645588407</td><td>14.723843141339719</td><td>13.526228760970756</td><td>1.1976143803689627</td><td>93.9971234549282</td><td>-61.221587834110984</td><td>358.8741893650386</td><td>-1.0538014107795688</td><td>0</td><td>0</td><td>0</td></tr>\n",
       "<tr><td>0000m016_b0-006683</td><td>359.9689054041276</td><td>-1.785287788407</td><td>16.27841575042531</td><td>15.033943833772094</td><td>1.2444719166532163</td><td>94.77151751911138</td><td>-61.804815270699606</td><td>359.2611376646957</td><td>-1.6255658133840842</td><td>0</td><td>0</td><td>0</td></tr>\n",
       "<tr><td>...</td><td>...</td><td>...</td><td>...</td><td>...</td><td>...</td><td>...</td><td>...</td><td>...</td><td>...</td><td>...</td><td>...</td><td>...</td></tr>\n",
       "<tr><td>3584p196_b0-010569</td><td>358.020976098343</td><td>19.367683839883</td><td>16.28258167356998</td><td>15.275721115402877</td><td>1.0068605581671015</td><td>104.16329681531683</td><td>-41.33083253489843</td><td>6.175824482660819</td><td>18.495065060547844</td><td>0</td><td>0</td><td>0</td></tr>\n",
       "<tr><td>3584p196_b0-009530</td><td>358.501729598343</td><td>19.247767239882997</td><td>16.163691540926695</td><td>15.253461026974023</td><td>0.9102305139526727</td><td>104.69304575479991</td><td>-41.58104475405044</td><td>6.556955436404721</td><td>18.19612293717231</td><td>0</td><td>0</td><td>0</td></tr>\n",
       "<tr><td>3584p196_b0-000640</td><td>358.30560799834296</td><td>19.428434839883</td><td>12.864806473255157</td><td>11.891204315192997</td><td>0.9736021580621603</td><td>104.52867313264255</td><td>-41.35363336922847</td><td>6.4596550136240385</td><td>18.43768948686769</td><td>0</td><td>0</td><td>0</td></tr>\n",
       "<tr><td>3584p196_b0-009440</td><td>357.975602198343</td><td>19.426847239883</td><td>16.23695040373504</td><td>15.43396693566814</td><td>0.8029834680669001</td><td>104.13294936412441</td><td>-41.261462814111205</td><td>6.161006833292313</td><td>18.56672136672497</td><td>0</td><td>0</td><td>0</td></tr>\n",
       "<tr><td>3584p196_b0-003606</td><td>357.745074898343</td><td>19.414695539883</td><td>15.297285780142992</td><td>14.275857186917216</td><td>1.0214285932257763</td><td>103.85279350346948</td><td>-41.2064410989898</td><td>5.947380377686361</td><td>18.646877121320287</td><td>0</td><td>0</td><td>0</td></tr>\n",
       "<tr><td>3584p196_b0-009542</td><td>359.159635498343</td><td>19.401785239882997</td><td>16.26077063133195</td><td>15.195180421043187</td><td>1.0655902102887644</td><td>105.54734780902777</td><td>-41.6126823340747</td><td>7.2181166216449695</td><td>18.076196146387357</td><td>0</td><td>0</td><td>0</td></tr>\n",
       "<tr><td>3584p196_b0-011038</td><td>358.873447698343</td><td>19.396674739882997</td><td>16.45600580641627</td><td>15.59367053776607</td><td>0.8623352686502024</td><td>105.19948125265151</td><td>-41.540742287065946</td><td>6.957893404160917</td><td>18.184523535801187</td><td>0</td><td>0</td><td>0</td></tr>\n",
       "<tr><td>3584p196_b0-001212</td><td>357.73409569834297</td><td>19.394550639882997</td><td>13.848360595148057</td><td>12.609907063432038</td><td>1.2384535317160186</td><td>103.83143512256898</td><td>-41.2224070426348</td><td>5.928541584718206</td><td>18.63293404554962</td><td>0</td><td>0</td><td>0</td></tr>\n",
       "<tr><td>3584p196_b0-009498</td><td>358.973047698343</td><td>19.274088139883</td><td>16.33212986510247</td><td>15.208753243401647</td><td>1.1233766217008228</td><td>105.27290121216012</td><td>-41.68512708507615</td><td>6.9937334599739565</td><td>18.033859264679336</td><td>0</td><td>0</td><td>0</td></tr>\n",
       "<tr><td>3584p196_b0-012312</td><td>357.967239898343</td><td>19.388959539882997</td><td>16.412558891557158</td><td>15.598705927394331</td><td>0.8138529641628267</td><td>104.10761199689802</td><td>-41.295154211960025</td><td>6.136696514226758</td><td>18.53563256779817</td><td>0</td><td>0</td><td>0</td></tr>\n",
       "</table></div>"
      ],
      "text/plain": [
       "<Table length=3136211>\n",
       "    source_id              ra                 dec         ... radius2   pa \n",
       "                          deg                 deg         ...              \n",
       "     bytes27            float64             float64       ...  int64  int64\n",
       "------------------ ------------------ ------------------- ... ------- -----\n",
       "0000m016_b0-005603 359.41333750412764     -2.167267788407 ...       0     0\n",
       "0000m016_b0-010596    0.5450644041276     -1.177598988407 ...       0     0\n",
       "0000m016_b0-005401  359.3693827041276 -1.7931065884069999 ...       0     0\n",
       "0000m016_b0-008110    0.0617950041276     -1.175226988407 ...       0     0\n",
       "0000m016_b0-007151 359.82987120412764     -1.977838988407 ...       0     0\n",
       "0000m016_b0-007695  359.7304187041276 -1.2496416884069999 ...       0     0\n",
       "0000m016_b0-006651 359.65309700412763 -0.8613792884070001 ...       0     0\n",
       "0000m016_b0-001610  359.3862815041276     -1.414645588407 ...       0     0\n",
       "0000m016_b0-006683  359.9689054041276     -1.785287788407 ...       0     0\n",
       "               ...                ...                 ... ...     ...   ...\n",
       "3584p196_b0-010569   358.020976098343     19.367683839883 ...       0     0\n",
       "3584p196_b0-009530   358.501729598343  19.247767239882997 ...       0     0\n",
       "3584p196_b0-000640 358.30560799834296     19.428434839883 ...       0     0\n",
       "3584p196_b0-009440   357.975602198343     19.426847239883 ...       0     0\n",
       "3584p196_b0-003606   357.745074898343     19.414695539883 ...       0     0\n",
       "3584p196_b0-009542   359.159635498343  19.401785239882997 ...       0     0\n",
       "3584p196_b0-011038   358.873447698343  19.396674739882997 ...       0     0\n",
       "3584p196_b0-001212 357.73409569834297  19.394550639882997 ...       0     0\n",
       "3584p196_b0-009498   358.973047698343     19.274088139883 ...       0     0\n",
       "3584p196_b0-012312   357.967239898343  19.388959539882997 ...       0     0"
      ]
     },
     "execution_count": 16,
     "metadata": {},
     "output_type": "execute_result"
    }
   ],
   "source": [
    "cattab_"
   ]
  },
  {
   "cell_type": "code",
   "execution_count": 19,
   "metadata": {},
   "outputs": [],
   "source": [
    "cattab_.write('/scratch/aew492/quasars/catalogs/catwise2020/catwise_agns_master.fits', format='fits')"
   ]
  },
  {
   "cell_type": "markdown",
   "metadata": {},
   "source": [
    "#### $|b|>25^\\circ$"
   ]
  },
  {
   "cell_type": "code",
   "execution_count": 20,
   "metadata": {},
   "outputs": [],
   "source": [
    "cattab_b25 = cattab_[np.abs(cattab_['b'])>25]"
   ]
  },
  {
   "cell_type": "code",
   "execution_count": 21,
   "metadata": {},
   "outputs": [
    {
     "data": {
      "text/plain": [
       "1824756"
      ]
     },
     "execution_count": 21,
     "metadata": {},
     "output_type": "execute_result"
    }
   ],
   "source": [
    "len(cattab_b25)"
   ]
  },
  {
   "cell_type": "code",
   "execution_count": 25,
   "metadata": {},
   "outputs": [],
   "source": [
    "cattab_b25.write('/scratch/aew492/quasars/catalogs/catwise2020/catwise_agns_master_bcuts/catwise_agns_bcut25.fits', format='fits')"
   ]
  },
  {
   "cell_type": "markdown",
   "metadata": {},
   "source": [
    "#### $|b|>35$"
   ]
  },
  {
   "cell_type": "code",
   "execution_count": 23,
   "metadata": {},
   "outputs": [],
   "source": [
    "cattab_b35 = cattab_[np.abs(cattab_['b'])>35]"
   ]
  },
  {
   "cell_type": "code",
   "execution_count": 24,
   "metadata": {},
   "outputs": [
    {
     "data": {
      "text/plain": [
       "1373381"
      ]
     },
     "execution_count": 24,
     "metadata": {},
     "output_type": "execute_result"
    }
   ],
   "source": [
    "len(cattab_b35)"
   ]
  },
  {
   "cell_type": "code",
   "execution_count": 26,
   "metadata": {},
   "outputs": [],
   "source": [
    "cattab_b35.write('/scratch/aew492/quasars/catalogs/catwise2020/catwise_agns_master_bcuts/catwise_agns_bcut35.fits', format='fits')"
   ]
  },
  {
   "cell_type": "code",
   "execution_count": null,
   "metadata": {},
   "outputs": [],
   "source": []
  }
 ],
 "metadata": {
  "kernelspec": {
   "display_name": "ood_env",
   "language": "python",
   "name": "ood_env"
  },
  "language_info": {
   "codemirror_mode": {
    "name": "ipython",
    "version": 3
   },
   "file_extension": ".py",
   "mimetype": "text/x-python",
   "name": "python",
   "nbconvert_exporter": "python",
   "pygments_lexer": "ipython3",
   "version": "3.10.11"
  }
 },
 "nbformat": 4,
 "nbformat_minor": 4
}
