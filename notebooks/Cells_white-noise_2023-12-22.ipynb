{
 "cells": [
  {
   "cell_type": "code",
   "execution_count": null,
   "metadata": {},
   "outputs": [],
   "source": [
    "%load_ext autoreload\n",
    "%autoreload 2\n",
    "%matplotlib inline"
   ]
  },
  {
   "cell_type": "code",
   "execution_count": null,
   "metadata": {},
   "outputs": [],
   "source": [
    "import numpy as np\n",
    "import matplotlib.pyplot as plt\n",
    "import healpy as hp\n",
    "from astropy.coordinates import SkyCoord\n",
    "import os\n",
    "import sys\n",
    "sys.path.insert(0, '/home/aew492/lss-dipoles')\n",
    "import tools\n",
    "from Secrest_dipole import SecrestDipole\n",
    "from multipoles import construct_templates, fit_multipole\n",
    "import dipole"
   ]
  },
  {
   "cell_type": "code",
   "execution_count": null,
   "metadata": {},
   "outputs": [],
   "source": [
    "# construct a healpix map with uncorrelated (white) noise\n",
    "NSIDE = 64\n",
    "noisemap = np.random.uniform(0, 1, size=hp.nside2npix(NSIDE))\n",
    "\n",
    "# plot\n",
    "hp.mollview(noisemap, title='White noise', sub=(1,2,1), min=0, max=1)"
   ]
  },
  {
   "cell_type": "code",
   "execution_count": null,
   "metadata": {},
   "outputs": [],
   "source": [
    "# compute the power spectrum for a few low ells and figure out in which plot it is flat"
   ]
  },
  {
   "cell_type": "code",
   "execution_count": null,
   "metadata": {},
   "outputs": [],
   "source": [
    "def compute_Cells(amps):\n",
    "    \"\"\"\n",
    "    Returns the power C(ell) for several ells given a list of amplitudes corresponding to the a_lm coefficients\n",
    "    for each ell, increasing from ell=0.\n",
    "    \"\"\"\n",
    "    ell = 0\n",
    "    i1 = 0\n",
    "    Cells = np.array([])\n",
    "    while i1 < len(amps):\n",
    "        i2 = i1 + 2 * ell + 1\n",
    "        assert i2 <= len(amps)\n",
    "        Cell = compute_Cell(amps[i1:i2])\n",
    "        Cells = np.append(Cells, Cell)\n",
    "        ell += 1\n",
    "        i1 = i2\n",
    "    return Cells"
   ]
  },
  {
   "cell_type": "code",
   "execution_count": null,
   "metadata": {},
   "outputs": [],
   "source": [
    "def compute_Cell(alms):\n",
    "    \"\"\"\n",
    "    Returns the power C(ell) given a list of coefficients a_lm for a single ell.\n",
    "    \"\"\"\n",
    "    assert alms.ndim <= 1\n",
    "    # pad if aellems is a scalar:\n",
    "    if alms.ndim == 0:\n",
    "        alms = alms[..., np.newaxis]\n",
    "    # infer ell from the number of moments 2ell+1\n",
    "    ell = (len(alms) - 1) // 2\n",
    "    assert np.mean(alms**2) == np.sum(alms**2)/(2*ell+1)\n",
    "    return np.mean(alms**2)"
   ]
  },
  {
   "cell_type": "code",
   "execution_count": null,
   "metadata": {},
   "outputs": [],
   "source": [
    "# simultaneously fit all low-ell amplitudes\n",
    "ells = np.arange(0, 15)\n",
    "\n",
    "templates = construct_templates(ells, NSIDE=NSIDE)\n",
    "    \n",
    "pars, stderr = fit_multipole(noisemap, templates)"
   ]
  },
  {
   "cell_type": "code",
   "execution_count": null,
   "metadata": {},
   "outputs": [],
   "source": [
    "# compute Cells, divide by monopole to make dimensionless\n",
    "Cells = compute_Cells(pars/pars[0])"
   ]
  },
  {
   "cell_type": "code",
   "execution_count": null,
   "metadata": {},
   "outputs": [],
   "source": [
    "fig, ax = plt.subplots(figsize=(6,4))\n",
    "ax.plot(ells[1:], Cells[1:], 'ks')\n",
    "ax.axhline(0, c='k', lw=0.5, alpha=0.5)\n",
    "ax.grid(lw=0.5, alpha=0.5)\n",
    "ax.set_xlabel(r'$\\ell$')\n",
    "ax.set_ylabel(r'$\\hat{C}_\\ell\\,/\\hat{C}_0$')\n",
    "ax.set_title(f'White noise low-$\\ell$ power spectrum')"
   ]
  },
  {
   "cell_type": "code",
   "execution_count": null,
   "metadata": {},
   "outputs": [],
   "source": [
    "fig, ax = plt.subplots(figsize=(6,4))\n",
    "ax.plot(ells[1:], ells[1:] * (ells[1:] + 1) * Cells[1:], 'ks')\n",
    "ax.axhline(0, c='k', lw=0.5, alpha=0.5)\n",
    "ax.grid(lw=0.5, alpha=0.5)\n",
    "ax.set_xlabel(r'$\\ell$')\n",
    "ax.set_ylabel(r'$\\ell\\,(\\ell +1)\\,\\hat{C}_\\ell\\,/\\hat{C}_0$')\n",
    "ax.set_title(f'White noise low-$\\ell$ power spectrum')"
   ]
  },
  {
   "cell_type": "code",
   "execution_count": null,
   "metadata": {},
   "outputs": [],
   "source": []
  }
 ],
 "metadata": {
  "kernelspec": {
   "display_name": "ood_env",
   "language": "python",
   "name": "ood_env"
  },
  "language_info": {
   "codemirror_mode": {
    "name": "ipython",
    "version": 3
   },
   "file_extension": ".py",
   "mimetype": "text/x-python",
   "name": "python",
   "nbconvert_exporter": "python",
   "pygments_lexer": "ipython3",
   "version": "3.10.11"
  }
 },
 "nbformat": 4,
 "nbformat_minor": 4
}
