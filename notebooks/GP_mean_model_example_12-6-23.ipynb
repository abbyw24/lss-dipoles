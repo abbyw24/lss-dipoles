{
 "cells": [
  {
   "cell_type": "markdown",
   "metadata": {},
   "source": [
    "Understanding the mean function in George...\n",
    "\n",
    "from https://george.readthedocs.io/en/latest/tutorials/model/"
   ]
  },
  {
   "cell_type": "code",
   "execution_count": 1,
   "metadata": {},
   "outputs": [],
   "source": [
    "%load_ext autoreload\n",
    "%autoreload 2\n",
    "%matplotlib inline"
   ]
  },
  {
   "cell_type": "code",
   "execution_count": 5,
   "metadata": {},
   "outputs": [],
   "source": [
    "import numpy as np\n",
    "import matplotlib.pyplot as plt\n",
    "import george\n",
    "from george.modeling import Model\n",
    "import os\n",
    "import sys\n",
    "\n",
    "sys.path.insert(0, '/home/aew492/lss-dipoles')\n",
    "from dipole import dipole"
   ]
  },
  {
   "cell_type": "markdown",
   "metadata": {},
   "source": [
    "### generate fake data"
   ]
  },
  {
   "cell_type": "markdown",
   "metadata": {},
   "source": [
    "the model:\n",
    "\n",
    "single Gaussian feature with 3 parameters; correlated noise"
   ]
  },
  {
   "cell_type": "code",
   "execution_count": 6,
   "metadata": {},
   "outputs": [],
   "source": [
    "# true model for the data\n",
    "class Model(Model):\n",
    "    parameter_names = (\"amp\", \"location\", \"log_sigma2\")\n",
    "\n",
    "    def get_value(self, t):\n",
    "        return self.amp * np.exp(-0.5*(t.flatten()-self.location)**2 * np.exp(-self.log_sigma2))"
   ]
  },
  {
   "cell_type": "code",
   "execution_count": 7,
   "metadata": {},
   "outputs": [
    {
     "data": {
      "text/plain": [
       "Text(0.5, 1.0, 'simulated data')"
      ]
     },
     "execution_count": 7,
     "metadata": {},
     "output_type": "execute_result"
    },
    {
     "data": {
      "image/png": "[encoded data removed]",
      "text/plain": [
       "<Figure size 640x480 with 1 Axes>"
      ]
     },
     "metadata": {},
     "output_type": "display_data"
    }
   ],
   "source": [
    "np.random.seed(1234)\n",
    "\n",
    "def generate_data(params, N, rng=(-5, 5)):\n",
    "    gp = george.GP(0.1 * george.kernels.ExpSquaredKernel(3.3))\n",
    "    t = rng[0] + np.diff(rng) * np.sort(np.random.rand(N))\n",
    "    y = gp.sample(t)\n",
    "    y += Model(**params).get_value(t)\n",
    "    yerr = 0.05 + 0.05 * np.random.rand(N)\n",
    "    y += yerr * np.random.randn(N)\n",
    "    return t, y, yerr\n",
    "\n",
    "truth = dict(amp=-1.0, location=0.1, log_sigma2=np.log(0.4))\n",
    "t, y, yerr = generate_data(truth, 50)\n",
    "\n",
    "plt.errorbar(t, y, yerr=yerr, fmt=\".k\", capsize=0)\n",
    "plt.ylabel(r\"$y$\")\n",
    "plt.xlabel(r\"$t$\")\n",
    "plt.xlim(-5, 5)\n",
    "plt.title(\"simulated data\")"
   ]
  },
  {
   "cell_type": "markdown",
   "metadata": {},
   "source": [
    "### fit to this data!"
   ]
  },
  {
   "cell_type": "markdown",
   "metadata": {},
   "source": [
    "start by assuming uncorrelated noise;\n",
    "\n",
    "simultaneously model a linear trend and the Gaussian feature:"
   ]
  },
  {
   "cell_type": "code",
   "execution_count": 9,
   "metadata": {},
   "outputs": [],
   "source": [
    "class PolynomialModel(Model):\n",
    "    parameter_names = (\"m\", \"b\", \"amp\", \"location\", \"log_sigma2\")\n",
    "\n",
    "    def get_value(self, t):\n",
    "        print(\"get_value called!\")\n",
    "        print(type(t), t.shape)\n",
    "        print(t)\n",
    "        t = t.flatten()\n",
    "        return (t * self.m + self.b +\n",
    "                self.amp * np.exp(-0.5*(t-self.location)**2*np.exp(-self.log_sigma2)))"
   ]
  },
  {
   "cell_type": "code",
   "execution_count": 10,
   "metadata": {},
   "outputs": [],
   "source": [
    "# initialize GP\n",
    "mean = PolynomialModel(m=0, b=0, amp=-1, location=0.1, log_sigma2=np.log(0.4))\n",
    "model = george.GP(mean=mean)"
   ]
  },
  {
   "cell_type": "code",
   "execution_count": 11,
   "metadata": {},
   "outputs": [
    {
     "name": "stdout",
     "output_type": "stream",
     "text": [
      "p init: [ 0.          0.         -1.          0.1        -0.91629073]\n"
     ]
    }
   ],
   "source": [
    "print('p init:', model.get_parameter_vector())"
   ]
  },
  {
   "cell_type": "code",
   "execution_count": 12,
   "metadata": {},
   "outputs": [
    {
     "data": {
      "text/plain": [
       "array([  0.        ,   0.        ,  -1.        ,   0.1       ,\n",
       "        -0.91629073, -27.40787756])"
      ]
     },
     "execution_count": 12,
     "metadata": {},
     "output_type": "execute_result"
    }
   ],
   "source": [
    "model.parameter_vector"
   ]
  },
  {
   "cell_type": "code",
   "execution_count": 13,
   "metadata": {},
   "outputs": [],
   "source": [
    "# where does this last value come from ??"
   ]
  },
  {
   "cell_type": "code",
   "execution_count": 15,
   "metadata": {},
   "outputs": [
    {
     "name": "stdout",
     "output_type": "stream",
     "text": [
      "p compute: [ 0.          0.         -1.          0.1        -0.91629073]\n"
     ]
    }
   ],
   "source": [
    "# pre-compute the covariance matrix\n",
    "#   and factorize it for a set of times and uncertainties\n",
    "model.compute(t, yerr)\n",
    "print('p compute:', model.get_parameter_vector())"
   ]
  },
  {
   "cell_type": "code",
   "execution_count": 17,
   "metadata": {},
   "outputs": [
    {
     "name": "stdout",
     "output_type": "stream",
     "text": [
      "get_value called!\n",
      "<class 'numpy.ndarray'> (50,)\n",
      "[-4.8623155  -4.56675937 -4.52644721 -4.40190777 -4.24618758 -3.56233175\n",
      " -3.15712916 -3.0848055  -2.81207894 -2.27407395 -2.23535745 -1.83163878\n",
      " -1.70331554 -1.4218273  -1.35114016 -1.31175994 -1.29749245 -1.02797422\n",
      " -0.63826576 -0.62272261 -0.57859245  0.00995126  0.02966833  0.03083165\n",
      "  0.33310163  0.61196186  0.6143308   0.68098653  0.9462478   1.15396178\n",
      "  1.22108771  1.51378143  1.74880944  1.83462935  2.04260971  2.04581308\n",
      "  2.12702027  2.72826622  2.79975808  2.85358584  2.88730143  3.01872178\n",
      "  3.02147642  3.6912739   3.75932635  3.82641191  4.09315959  4.24867629\n",
      "  4.33140102  4.58139354]\n",
      "lnlike compute: -84.54732693061757\n"
     ]
    }
   ],
   "source": [
    "print('lnlike compute:', model.log_likelihood(y))"
   ]
  },
  {
   "cell_type": "code",
   "execution_count": null,
   "metadata": {},
   "outputs": [],
   "source": []
  }
 ],
 "metadata": {
  "kernelspec": {
   "display_name": "ood_env",
   "language": "python",
   "name": "ood_env"
  },
  "language_info": {
   "codemirror_mode": {
    "name": "ipython",
    "version": 3
   },
   "file_extension": ".py",
   "mimetype": "text/x-python",
   "name": "python",
   "nbconvert_exporter": "python",
   "pygments_lexer": "ipython3",
   "version": "3.10.11"
  }
 },
 "nbformat": 4,
 "nbformat_minor": 4
}
