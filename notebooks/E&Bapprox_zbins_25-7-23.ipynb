{
 "cells": [
  {
   "cell_type": "code",
   "execution_count": 1,
   "metadata": {},
   "outputs": [],
   "source": [
    "%load_ext autoreload\n",
    "%autoreload 2\n",
    "%matplotlib inline"
   ]
  },
  {
   "cell_type": "code",
   "execution_count": 2,
   "metadata": {},
   "outputs": [],
   "source": [
    "import numpy as np\n",
    "import matplotlib.pyplot as plt\n",
    "from astropy.table import Table\n",
    "import os\n",
    "import sys\n",
    "sys.path.insert(0, '/home/aew492/lss-dipoles')\n",
    "import tools"
   ]
  },
  {
   "cell_type": "markdown",
   "metadata": {},
   "source": [
    "#### Ellis & Baldwin dipole approximation for radio source counts\n",
    "$$\n",
    "\\mathcal{D} = \\left[ 2+x(1+\\alpha)\\right]\\frac{v}{c}\n",
    "$$\n",
    "\n",
    "$\\alpha$ = spectral index\n",
    "\n",
    "$x$ = number-count slope\n",
    "\n",
    "$\\Longrightarrow$ We want to use this to estimate the expected dipole in different redshift bins in Quaia to understand how dependent the expected dipole is on the redshift evolution of the quasars (motivated by e.g. Dalang & Bonvin 2022 and Guandalin et al. 2022)"
   ]
  },
  {
   "cell_type": "code",
   "execution_count": 3,
   "metadata": {},
   "outputs": [],
   "source": [
    "def Vega_to_AB(BR_Vega, offset=-0.3250):  # offset computed from Gaia photometric zero points\n",
    "    return BR_Vega + offset"
   ]
  },
  {
   "cell_type": "code",
   "execution_count": 4,
   "metadata": {},
   "outputs": [],
   "source": [
    "def compute_alpha(B, R, lambda_B=505.15, lambda_R=772.62):\n",
    "    \"\"\"\n",
    "    Compute the spectral slope alpha for a source with given BP and RP magnitudes.\n",
    "    PARAMETERS:\n",
    "    - B = BP magnitude (Vega system)\n",
    "    - R = RP magnitude (Vega system)\n",
    "    - lambda_B = wavelength (nm) of blue passband (default is the \"pivot wavelength\" given by Gaia)\n",
    "    - lambda_R = wavelength (nm) of red passband (\")\n",
    "    \"\"\"\n",
    "    # convert given (B-R)_Vega to AB color (B-R)_AB\n",
    "    BR_AB = Vega_to_AB(B-R)\n",
    "    # convert AB mag to flux\n",
    "    DeltalogS_nu = -(1/2.5)*BR_AB\n",
    "    # frequencies\n",
    "    Deltalognu = np.log10(lambda_R/lambda_B)\n",
    "    # compute alpha\n",
    "    alpha = -DeltalogS_nu/Deltalognu\n",
    "    return alpha"
   ]
  },
  {
   "cell_type": "markdown",
   "metadata": {},
   "source": [
    "#### spectral indices in full sample"
   ]
  },
  {
   "cell_type": "code",
   "execution_count": 7,
   "metadata": {},
   "outputs": [],
   "source": [
    "# load catalog\n",
    "G = 20.5\n",
    "quaia_fn = f'/scratch/aew492/quasars/catalogs/catalog_G{G}.fits'\n",
    "tab_quaia = Table.read(quaia_fn, format='fits')"
   ]
  },
  {
   "cell_type": "code",
   "execution_count": 8,
   "metadata": {},
   "outputs": [],
   "source": [
    "# magnitudes\n",
    "bps = tab_quaia['phot_bp_mean_mag']\n",
    "rps = tab_quaia['phot_rp_mean_mag']"
   ]
  },
  {
   "cell_type": "code",
   "execution_count": 9,
   "metadata": {},
   "outputs": [],
   "source": [
    "alphas = [compute_alpha(bps[i], rps[i]) for i in range(len(tab_quaia))]"
   ]
  },
  {
   "cell_type": "code",
   "execution_count": 10,
   "metadata": {},
   "outputs": [
    {
     "data": {
      "text/plain": [
       "1295502"
      ]
     },
     "execution_count": 10,
     "metadata": {},
     "output_type": "execute_result"
    }
   ],
   "source": [
    "len(alphas)"
   ]
  },
  {
   "cell_type": "code",
   "execution_count": 12,
   "metadata": {},
   "outputs": [
    {
     "data": {
      "text/plain": [
       "Text(0.5, 1.0, 'Quaia G<20.5 spectral indices')"
      ]
     },
     "execution_count": 12,
     "metadata": {},
     "output_type": "execute_result"
    },
    {
     "data": {
      "image/png": "[encoded data removed]",
      "text/plain": [
       "<Figure size 640x480 with 1 Axes>"
      ]
     },
     "metadata": {},
     "output_type": "display_data"
    }
   ],
   "source": [
    "fig, ax = plt.subplots()\n",
    "n, bins, _ = ax.hist(alphas, bins=100, color='k', alpha=0.5)\n",
    "ax.set_xlabel(r'spectral index $\\alpha$')\n",
    "ax.set_ylabel('sources')\n",
    "ax.set_title(f'Quaia G<{G} spectral indices')"
   ]
  },
  {
   "cell_type": "code",
   "execution_count": 13,
   "metadata": {},
   "outputs": [
    {
     "data": {
      "text/plain": [
       "(0.7737076968903156, 0.7088102250343511)"
      ]
     },
     "execution_count": 13,
     "metadata": {},
     "output_type": "execute_result"
    }
   ],
   "source": [
    "np.mean(alphas), np.median(alphas)"
   ]
  },
  {
   "cell_type": "code",
   "execution_count": null,
   "metadata": {},
   "outputs": [],
   "source": []
  }
 ],
 "metadata": {
  "kernelspec": {
   "display_name": "ood_env",
   "language": "python",
   "name": "ood_env"
  },
  "language_info": {
   "codemirror_mode": {
    "name": "ipython",
    "version": 3
   },
   "file_extension": ".py",
   "mimetype": "text/x-python",
   "name": "python",
   "nbconvert_exporter": "python",
   "pygments_lexer": "ipython3",
   "version": "3.10.11"
  }
 },
 "nbformat": 4,
 "nbformat_minor": 4
}
