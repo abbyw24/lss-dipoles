{
 "cells": [
  {
   "cell_type": "code",
   "execution_count": null,
   "metadata": {},
   "outputs": [],
   "source": [
    "%load_ext autoreload\n",
    "%autoreload 2\n",
    "%matplotlib inline"
   ]
  },
  {
   "cell_type": "code",
   "execution_count": null,
   "metadata": {},
   "outputs": [],
   "source": [
    "import numpy as np\n",
    "import matplotlib.pyplot as plt\n",
    "import matplotlib as mpl\n",
    "import healpy as hp\n",
    "from astropy.coordinates import SkyCoord\n",
    "import os\n",
    "import sys\n",
    "sys.path.insert(0, '/home/aew492/lss-dipoles')\n",
    "import tools\n",
    "from Secrest_dipole import SecrestDipole\n",
    "from multipoles import construct_templates, fit_multipole\n",
    "import dipole"
   ]
  },
  {
   "cell_type": "markdown",
   "metadata": {},
   "source": [
    "### inputs"
   ]
  },
  {
   "cell_type": "code",
   "execution_count": null,
   "metadata": {},
   "outputs": [],
   "source": [
    "# inputs used across the entire notebook\n",
    "NSIDE = 64\n",
    "\n",
    "# kwargs for each sample to pass to SecrestDipole() to load\n",
    "catwise_kwargs = dict(initial_catfn='catwise_agns_master.fits', catname='catwise_agns', mag='w1',\n",
    "                      blim=30, maglim=16.4, load_init=False)\n",
    "quaia_kwargs = dict(initial_catfn='quaia_G20.0.fits', catname='quaia', mag='G',\n",
    "                    blim=30, maglim=20., save_tag='_r1.0', load_init=False, compcorrect=True)"
   ]
  },
  {
   "cell_type": "markdown",
   "metadata": {},
   "source": [
    "### load sample"
   ]
  },
  {
   "cell_type": "code",
   "execution_count": null,
   "metadata": {},
   "outputs": [],
   "source": [
    "# load the source density table for the final sample (masked and density-corrected) and make healpix map\n",
    "d = SecrestDipole(**quaia_kwargs)\n",
    "tab = d.load_hpxelatcorr()\n",
    "\n",
    "map_to_fit = np.empty(hp.nside2npix(NSIDE))\n",
    "map_to_fit[:] = np.nan\n",
    "map_to_fit[tab['hpidx']] = tab['elatdenscorr']\n",
    "mean, std = np.nanmean(map_to_fit), np.nanstd(map_to_fit)\n",
    "fig = plt.figure(figsize=(8,4))\n",
    "hp.mollview(map_to_fit, coord=['C','G'], title=f'Input map: {d.catname}', unit='sources per healpixel',\n",
    "            badcolor='w', min=mean-2*std, max=mean+2*std, fig=fig)\n",
    "hp.graticule()"
   ]
  },
  {
   "cell_type": "markdown",
   "metadata": {},
   "source": [
    "### compute $C_\\ell$"
   ]
  },
  {
   "cell_type": "code",
   "execution_count": null,
   "metadata": {},
   "outputs": [],
   "source": [
    "def compute_Cells(amps):\n",
    "    \"\"\"\n",
    "    Returns the power C(ell) for several ells given a list of amplitudes corresponding to the a_lm coefficients\n",
    "    for each ell, increasing from ell=0.\n",
    "    \"\"\"\n",
    "    ell = 0\n",
    "    i1 = 0\n",
    "    Cells = np.array([])\n",
    "    while i1 < len(amps):\n",
    "        i2 = i1 + 2 * ell + 1\n",
    "        assert i2 <= len(amps)\n",
    "        Cell = compute_Cell(amps[i1:i2])\n",
    "        Cells = np.append(Cells, Cell)\n",
    "        ell += 1\n",
    "        i1 = i2\n",
    "    return Cells"
   ]
  },
  {
   "cell_type": "code",
   "execution_count": null,
   "metadata": {},
   "outputs": [],
   "source": [
    "def compute_Cell(alms):\n",
    "    \"\"\"\n",
    "    Returns the power C(ell) given a list of coefficients a_lm for a single ell.\n",
    "    \"\"\"\n",
    "    assert alms.ndim <= 1\n",
    "    # pad if aellems is a scalar:\n",
    "    if alms.ndim == 0:\n",
    "        alms = alms[..., np.newaxis]\n",
    "    # infer ell from the number of moments 2ell+1\n",
    "    ell = (len(alms) - 1) // 2\n",
    "    assert np.mean(alms**2) == np.sum(alms**2)/(2*ell+1)\n",
    "    return np.mean(alms**2)"
   ]
  },
  {
   "cell_type": "code",
   "execution_count": null,
   "metadata": {},
   "outputs": [],
   "source": [
    "# explore the dependence of the fit on the max ell\n",
    "\n",
    "# choose a few max ells\n",
    "max_ells = np.arange(1, 9)\n",
    "\n",
    "ellss = []\n",
    "Cellss = []\n",
    "print(\"max ell:\\t dipole amplitude:\")\n",
    "for i, max_ell in enumerate(max_ells):\n",
    "    # simultaneously fit all low-ell amplitudes\n",
    "    ells = np.arange(0, max_ell+1)\n",
    "    ellss.append(ells)\n",
    "    templates = construct_templates(ells, NSIDE=NSIDE)\n",
    "\n",
    "    pars, stderr = fit_multipole(map_to_fit, templates, idx=~np.isnan(map_to_fit))\n",
    "    \n",
    "    print(f\"{max_ell}\\t\\t {np.linalg.norm(pars[1:4]) / pars[0] * np.sqrt(3 / (4 * np.pi)) / (0.5 * np.sqrt(1/np.pi))}\")\n",
    "    \n",
    "    # compute Cells, divide by monopole to make dimensionless\n",
    "    Cellss.append(compute_Cells(pars / (0.5 * np.sqrt(1/np.pi) * pars[0])))"
   ]
  },
  {
   "cell_type": "code",
   "execution_count": null,
   "metadata": {},
   "outputs": [],
   "source": [
    "# plot\n",
    "norm = mpl.colors.Normalize(vmin=min(max_ells), vmax=max(max_ells))\n",
    "smap = mpl.cm.ScalarMappable(norm=norm, cmap='viridis')\n",
    "\n",
    "fig, ax = plt.subplots(figsize=(9,5))\n",
    "\n",
    "for i, max_ell in enumerate(max_ells):\n",
    "    ax.plot(ellss[i][1:], Cellss[i][1:], marker='s', ms=4 * np.sqrt(max_ell), mfc='None', ls='-',\n",
    "            alpha=0.7, c=smap.to_rgba(max_ell))\n",
    "ax.semilogy()\n",
    "ax.axhline(Cellss[0][1:], c='k', alpha=0.3, ls='--', label='$\\ell_\\mathrm{max}=1$')\n",
    "ax.grid(alpha=0.5, lw=0.5)\n",
    "ax.set_xticks(np.arange(min(max_ells), max(max_ells)+1))\n",
    "ax.set_xlabel(r'$\\ell$')\n",
    "ax.set_ylabel(r'$\\hat{C}_\\ell$')\n",
    "ax.set_title(f'{d.catname} low-'r'$\\ell$ power spectrum')\n",
    "fig.colorbar(smap, ax=ax, label=r'$\\ell_\\mathrm{max}$')\n",
    "ax.legend()"
   ]
  },
  {
   "cell_type": "code",
   "execution_count": null,
   "metadata": {},
   "outputs": [],
   "source": [
    "assert False"
   ]
  },
  {
   "cell_type": "code",
   "execution_count": null,
   "metadata": {},
   "outputs": [],
   "source": [
    "# plot\n",
    "norm = mpl.colors.Normalize(vmin=min(max_ells), vmax=max(max_ells))\n",
    "smap = mpl.cm.ScalarMappable(norm=norm, cmap='viridis')\n",
    "\n",
    "fig, ax = plt.subplots(figsize=(9,5))\n",
    "\n",
    "for i, max_ell in enumerate(max_ells):\n",
    "    ax.plot(ellss[i][1:], Cellss[i][1:], marker='s', ms=4 * np.sqrt(max_ell), mfc='None', ls='-',\n",
    "            alpha=0.7, c=smap.to_rgba(max_ell))\n",
    "ax.semilogy()\n",
    "ax.axhline(Cellss[0][1:], c='k', alpha=0.3, ls='--', label='$\\ell_\\mathrm{max}=1$')\n",
    "ax.grid(alpha=0.5, lw=0.5)\n",
    "ax.set_xticks(np.arange(min(max_ells), max(max_ells)+1))\n",
    "ax.set_xlabel(r'$\\ell$')\n",
    "ax.set_ylabel(r'$\\hat{C}_\\ell$')\n",
    "ax.set_title(f'{d.catname} low-'r'$\\ell$ power spectrum')\n",
    "fig.colorbar(smap, ax=ax, label=r'$\\ell_\\mathrm{max}$')\n",
    "ax.legend()"
   ]
  },
  {
   "cell_type": "code",
   "execution_count": null,
   "metadata": {},
   "outputs": [],
   "source": []
  }
 ],
 "metadata": {
  "kernelspec": {
   "display_name": "ood_env",
   "language": "python",
   "name": "ood_env"
  },
  "language_info": {
   "codemirror_mode": {
    "name": "ipython",
    "version": 3
   },
   "file_extension": ".py",
   "mimetype": "text/x-python",
   "name": "python",
   "nbconvert_exporter": "python",
   "pygments_lexer": "ipython3",
   "version": "3.10.11"
  }
 },
 "nbformat": 4,
 "nbformat_minor": 4
}
