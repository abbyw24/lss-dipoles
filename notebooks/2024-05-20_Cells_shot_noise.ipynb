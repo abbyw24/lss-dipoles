{
 "cells": [
  {
   "cell_type": "code",
   "execution_count": 1,
   "id": "613d11aa-70c1-4cf8-b3d4-1b06302679d1",
   "metadata": {},
   "outputs": [],
   "source": [
    "%load_ext autoreload\n",
    "%autoreload 2\n",
    "%matplotlib inline"
   ]
  },
  {
   "cell_type": "code",
   "execution_count": 2,
   "id": "8751682c-abe4-4d49-8b4c-91b463e57574",
   "metadata": {},
   "outputs": [],
   "source": [
    "import numpy as np\n",
    "import matplotlib.pyplot as plt\n",
    "import matplotlib as mpl\n",
    "import healpy as hp\n",
    "import fitsio\n",
    "import astropy.units as u\n",
    "import time\n",
    "import os\n",
    "import sys\n",
    "sys.path.insert(0, '/home/aew492/lss-dipoles')\n",
    "import tools\n",
    "from qso_sample import QSOSample\n",
    "import dipole\n",
    "import multipoles"
   ]
  },
  {
   "cell_type": "markdown",
   "id": "104cd7f3-5c51-4440-b7f8-a85a91033184",
   "metadata": {},
   "source": [
    "### load shot noise estimates"
   ]
  },
  {
   "cell_type": "markdown",
   "id": "5dd29a0c-b246-49aa-a824-98f0fe8fd65f",
   "metadata": {},
   "source": [
    "#### CatWISE"
   ]
  },
  {
   "cell_type": "code",
   "execution_count": 3,
   "id": "506953b2-f1c6-4bfd-93e9-6c2fff2814d2",
   "metadata": {},
   "outputs": [
    {
     "data": {
      "text/plain": [
       "'CatWISE AGNs, masking completeness < 0.5; correcting by completeness to estimate mean source density mu, but NOT weighting by completeness in lstsq'"
      ]
     },
     "execution_count": 3,
     "metadata": {},
     "output_type": "execute_result"
    }
   ],
   "source": [
    "# on the full sky, only fitting up to the dipole\n",
    "res_full = np.load('/scratch/aew492/quasars/noise_Cells/catwise_agns/noise_Cells_fullsky_ellmax1_100trials.npy', allow_pickle=True).item()\n",
    "noise_full = res_full['Cells_fullsky'][0]\n",
    "res_full['comment']"
   ]
  },
  {
   "cell_type": "code",
   "execution_count": 4,
   "id": "c4260be0-a9b6-48cc-9954-ba0ef2c32323",
   "metadata": {},
   "outputs": [],
   "source": [
    "# on the CUT sky, only fitting up to the dipole, varying Wmask\n",
    "res_cut = np.load('/scratch/aew492/quasars/noise_Cells/catwise_agns/noise_Cells_cutsky_ellmax1_100trials.npy', allow_pickle=True).item()\n",
    "Wmasks, noise_cut = list(zip(*res_cut['Cells_cutsky']))\n",
    "idx_sorted = np.argsort(Wmasks)\n",
    "Wmasks = np.array(Wmasks)[idx_sorted]\n",
    "noise_cut = np.array(noise_cut)[idx_sorted]"
   ]
  },
  {
   "cell_type": "code",
   "execution_count": 11,
   "id": "0ab5c75a-8615-400b-97fc-d5a0de804958",
   "metadata": {},
   "outputs": [],
   "source": [
    "# interpolate on a finer grid\n",
    "Wmasks_fine = np.logspace(np.log10(min(Wmasks)), np.log10(max(Wmasks)), 101)\n",
    "noise_cut_fine = np.interp(Wmasks_fine, Wmasks, noise_cut.flatten())"
   ]
  },
  {
   "cell_type": "code",
   "execution_count": 13,
   "id": "76c99d7e-72b6-476d-ab97-77e0caace615",
   "metadata": {},
   "outputs": [
    {
     "data": {
      "text/plain": [
       "Text(0.5, 1.0, 'CatWISE shot noise estimates')"
      ]
     },
     "execution_count": 13,
     "metadata": {},
     "output_type": "execute_result"
    },
    {
     "data": {
      "image/png": "[encoded data removed]",
      "text/plain": [
       "<Figure size 600x400 with 1 Axes>"
      ]
     },
     "metadata": {},
     "output_type": "display_data"
    }
   ],
   "source": [
    "fig, ax = plt.subplots(figsize=(6,4), tight_layout=True)\n",
    "ax.plot(Wmasks, noise_cut, 'k.', lw=0.5, alpha=0.8)\n",
    "ax.plot(Wmasks_fine, noise_cut_fine, 'k.', ms=3, lw=0.5, alpha=0.4)\n",
    "ax.axhline(noise_full, c='k', alpha=0.6, lw=1.5)\n",
    "ax.grid(alpha=0.5, lw=0.5)\n",
    "ax.semilogx()\n",
    "ax.set_xlabel('Wmask')\n",
    "ax.set_ylabel(r'$C_1$')\n",
    "ax.set_title('CatWISE shot noise estimates')"
   ]
  },
  {
   "cell_type": "code",
   "execution_count": 14,
   "id": "487ced89-b627-4a6d-9837-4bbc7e7cbc52",
   "metadata": {},
   "outputs": [
    {
     "data": {
      "text/plain": [
       "0.2187761623949553"
      ]
     },
     "execution_count": 14,
     "metadata": {},
     "output_type": "execute_result"
    }
   ],
   "source": [
    "# find closest Wmask in the interpolated list to the C_1 on the full sky\n",
    "idx_closest = np.abs(noise_cut_fine - noise_full).argmin()\n",
    "Wmasks_fine[idx_closest]"
   ]
  },
  {
   "cell_type": "markdown",
   "id": "c016b805-2268-480c-97ad-dd74579351c6",
   "metadata": {},
   "source": [
    "#### Quaia"
   ]
  },
  {
   "cell_type": "code",
   "execution_count": 15,
   "id": "1f0614e8-a9ad-4304-b5d0-01f14725ca7a",
   "metadata": {},
   "outputs": [
    {
     "data": {
      "text/plain": [
       "'Quaia G<20.0, masking completeness < 0.5; correcting by completeness to estimate mean source density mu, but NOT weighting by completeness in lstsq'"
      ]
     },
     "execution_count": 15,
     "metadata": {},
     "output_type": "execute_result"
    }
   ],
   "source": [
    "# on the full sky, only fitting up to the dipole\n",
    "res_full = np.load('/scratch/aew492/quasars/noise_Cells/quaia/noise_Cells_fullsky_ellmax1_100trials.npy', allow_pickle=True).item()\n",
    "noise_full = res_full['Cells_fullsky'][0]\n",
    "res_full['comment']"
   ]
  },
  {
   "cell_type": "code",
   "execution_count": 16,
   "id": "38965e6d-5acc-4eee-af27-55cc22a8fb9f",
   "metadata": {},
   "outputs": [],
   "source": [
    "# on the CUT sky, only fitting up to the dipole, varying Wmask\n",
    "res_cut = np.load('/scratch/aew492/quasars/noise_Cells/quaia/noise_Cells_cutsky_ellmax1_100trials.npy', allow_pickle=True).item()\n",
    "Wmasks, noise_cut = list(zip(*res_cut['Cells_cutsky']))\n",
    "idx_sorted = np.argsort(Wmasks)\n",
    "Wmasks = np.array(Wmasks)[idx_sorted]\n",
    "noise_cut = np.array(noise_cut)[idx_sorted]"
   ]
  },
  {
   "cell_type": "code",
   "execution_count": 17,
   "id": "e513e85d-2526-4806-a881-46dd15b201d4",
   "metadata": {},
   "outputs": [],
   "source": [
    "# interpolate on a finer grid\n",
    "Wmasks_fine = np.logspace(np.log10(min(Wmasks)), np.log10(max(Wmasks)), 101)\n",
    "noise_cut_fine = np.interp(Wmasks_fine, Wmasks, noise_cut.flatten())"
   ]
  },
  {
   "cell_type": "code",
   "execution_count": 18,
   "id": "a7ad29cd-8183-4521-b3c2-6c000aaa46e5",
   "metadata": {},
   "outputs": [
    {
     "data": {
      "text/plain": [
       "Text(0.5, 1.0, 'Quaia G<20.0 shot noise estimates')"
      ]
     },
     "execution_count": 18,
     "metadata": {},
     "output_type": "execute_result"
    },
    {
     "data": {
      "image/png": "[encoded data removed]",
      "text/plain": [
       "<Figure size 600x400 with 1 Axes>"
      ]
     },
     "metadata": {},
     "output_type": "display_data"
    }
   ],
   "source": [
    "fig, ax = plt.subplots(figsize=(6,4), tight_layout=True)\n",
    "ax.plot(Wmasks, noise_cut, 'k.', lw=0.5, alpha=0.8)\n",
    "ax.plot(Wmasks_fine, noise_cut_fine, 'k.', ms=3, lw=0.5, alpha=0.4)\n",
    "ax.axhline(noise_full, c='k', alpha=0.6, lw=1.5)\n",
    "ax.grid(alpha=0.5, lw=0.5)\n",
    "ax.semilogx()\n",
    "ax.set_xlabel('Wmask')\n",
    "ax.set_ylabel(r'$C_1$')\n",
    "ax.set_title('Quaia G<20.0 shot noise estimates')"
   ]
  },
  {
   "cell_type": "code",
   "execution_count": 19,
   "id": "82f90526-1c08-4143-be7d-233e2a4620f1",
   "metadata": {},
   "outputs": [
    {
     "data": {
      "text/plain": [
       "0.47863009232263826"
      ]
     },
     "execution_count": 19,
     "metadata": {},
     "output_type": "execute_result"
    }
   ],
   "source": [
    "# find closest Wmask in the interpolated list to the C_1 on the full sky\n",
    "idx_closest = np.abs(noise_cut_fine - noise_full).argmin()\n",
    "Wmasks_fine[idx_closest]"
   ]
  },
  {
   "cell_type": "code",
   "execution_count": null,
   "id": "7804f3ff-9618-46b8-94cf-4ae98c852689",
   "metadata": {},
   "outputs": [],
   "source": []
  }
 ],
 "metadata": {
  "kernelspec": {
   "display_name": "ood_env",
   "language": "python",
   "name": "ood_env"
  },
  "language_info": {
   "codemirror_mode": {
    "name": "ipython",
    "version": 3
   },
   "file_extension": ".py",
   "mimetype": "text/x-python",
   "name": "python",
   "nbconvert_exporter": "python",
   "pygments_lexer": "ipython3",
   "version": "3.10.11"
  }
 },
 "nbformat": 4,
 "nbformat_minor": 5
}
