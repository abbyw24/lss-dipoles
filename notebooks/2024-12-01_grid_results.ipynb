{
 "cells": [
  {
   "cell_type": "code",
   "execution_count": 7,
   "id": "fbe0f436-0166-4a56-a9bb-354695156019",
   "metadata": {},
   "outputs": [],
   "source": [
    "import numpy as np\n",
    "import matplotlib.pyplot as plt\n",
    "import matplotlib as mpl\n",
    "import healpy as hp\n",
    "from healpy.newvisufunc import projview\n",
    "import fitsio\n",
    "from astropy.coordinates import SkyCoord, Angle\n",
    "import astropy.units as u\n",
    "import time\n",
    "import os\n",
    "import sys\n",
    "\n",
    "import pymaster as nmt\n",
    "\n",
    "#sys.path.insert(0, '/home/aew492/lss-dipoles')\n",
    "#sys.path.insert(0, '/home/investigator/code/lss-dipoles')\n",
    "sys.path.insert(0, '../code')\n",
    "import plotter\n",
    "import generate_mocks as gm\n",
    "# import tools\n",
    "# from qso_sample import QSOSample\n",
    "# import dipole\n",
    "# import ellisbaldwin\n",
    "# import multipoles\n",
    "# from jackknife import get_longitude_subsamples_from_hpmap, compute_jackknife_uncertainty, covar_jackknife"
   ]
  },
  {
   "cell_type": "code",
   "execution_count": 5,
   "id": "5b453022-d91c-4d96-a8ef-e02f79c8ef9f",
   "metadata": {},
   "outputs": [],
   "source": [
    "import matplotlib\n",
    "matplotlib.rcParams['ytick.labelsize'] = 20\n",
    "matplotlib.rcParams['xtick.labelsize'] = 20\n",
    "matplotlib.rcParams['axes.labelsize'] = 24\n",
    "matplotlib.rcParams['legend.fontsize'] = 16\n",
    "matplotlib.rcParams['axes.titlesize'] = 26\n",
    "\n",
    "matplotlib.rc('text', usetex=True)"
   ]
  },
  {
   "cell_type": "code",
   "execution_count": 8,
   "id": "95899a96-e0ab-413e-8663-6f370e213385",
   "metadata": {},
   "outputs": [
    {
     "ename": "UnboundLocalError",
     "evalue": "cannot access local variable 'Cell_modes' where it is not associated with a value",
     "output_type": "error",
     "traceback": [
      "\u001b[0;31m---------------------------------------------------------------------------\u001b[0m",
      "\u001b[0;31mUnboundLocalError\u001b[0m                         Traceback (most recent call last)",
      "Cell \u001b[0;32mIn[8], line 10\u001b[0m\n\u001b[1;32m      4\u001b[0m selfunc_mode \u001b[38;5;241m=\u001b[39m \u001b[38;5;124m'\u001b[39m\u001b[38;5;124mcatwise_zodi\u001b[39m\u001b[38;5;124m'\u001b[39m \u001b[38;5;66;03m#'quaia_G20.0_orig'\u001b[39;00m\n\u001b[1;32m      5\u001b[0m case_dict_data \u001b[38;5;241m=\u001b[39m {\n\u001b[1;32m      6\u001b[0m     \u001b[38;5;124m\"\u001b[39m\u001b[38;5;124mcatalog_name\u001b[39m\u001b[38;5;124m\"\u001b[39m: catalog_name,\n\u001b[1;32m      7\u001b[0m     \u001b[38;5;124m\"\u001b[39m\u001b[38;5;124mselfunc_mode\u001b[39m\u001b[38;5;124m\"\u001b[39m: selfunc_mode, \u001b[38;5;66;03m#this also multiplies in the mask\u001b[39;00m\n\u001b[1;32m      8\u001b[0m     \u001b[38;5;124m\"\u001b[39m\u001b[38;5;124mtag\u001b[39m\u001b[38;5;124m\"\u001b[39m: \u001b[38;5;124mf\u001b[39m\u001b[38;5;124m\"\u001b[39m\u001b[38;5;124m_case-\u001b[39m\u001b[38;5;132;01m{\u001b[39;00mselfunc_mode\u001b[38;5;132;01m}\u001b[39;00m\u001b[38;5;124m\"\u001b[39m\n\u001b[1;32m      9\u001b[0m }\n\u001b[0;32m---> 10\u001b[0m case_dicts_mock \u001b[38;5;241m=\u001b[39m \u001b[43mgm\u001b[49m\u001b[38;5;241;43m.\u001b[39;49m\u001b[43mcase_set\u001b[49m\u001b[43m(\u001b[49m\u001b[43mset_name\u001b[49m\u001b[38;5;241;43m=\u001b[39;49m\u001b[43mset_name\u001b[49m\u001b[43m)\u001b[49m\n",
      "File \u001b[0;32m~/lss-dipoles/notebooks/../code/generate_mocks.py:77\u001b[0m, in \u001b[0;36mcase_set\u001b[0;34m(set_name)\u001b[0m\n\u001b[1;32m     75\u001b[0m     selfunc_modes \u001b[38;5;241m=\u001b[39m [\u001b[38;5;124m'\u001b[39m\u001b[38;5;124mquaia_G20.0_orig\u001b[39m\u001b[38;5;124m'\u001b[39m]\n\u001b[1;32m     76\u001b[0m     dipole_amps \u001b[38;5;241m=\u001b[39m [\u001b[38;5;241m0.0052\u001b[39m]\n\u001b[0;32m---> 77\u001b[0m cases \u001b[38;5;241m=\u001b[39m \u001b[38;5;28mlist\u001b[39m(itertools\u001b[38;5;241m.\u001b[39mproduct(\u001b[43mCell_modes\u001b[49m,\n\u001b[1;32m     78\u001b[0m                                selfunc_modes,\n\u001b[1;32m     79\u001b[0m                                dipole_amps))\n\u001b[1;32m     80\u001b[0m case_dicts \u001b[38;5;241m=\u001b[39m []\n\u001b[1;32m     81\u001b[0m \u001b[38;5;28;01mfor\u001b[39;00m case \u001b[38;5;129;01min\u001b[39;00m cases:\n",
      "\u001b[0;31mUnboundLocalError\u001b[0m: cannot access local variable 'Cell_modes' where it is not associated with a value"
     ]
    }
   ],
   "source": [
    "set_name = 'ideal_catwise'\n",
    "tag_fig = f'_{set_name}'\n",
    "catalog_name = 'catwise' #'quaia_G20.0'\n",
    "selfunc_mode = 'catwise_zodi' #'quaia_G20.0_orig'\n",
    "case_dict_data = {\n",
    "    \"catalog_name\": catalog_name,\n",
    "    \"selfunc_mode\": selfunc_mode, #this also multiplies in the mask\n",
    "    \"tag\": f\"_case-{selfunc_mode}\"\n",
    "}\n",
    "case_dicts_mock = gm.case_set(set_name=set_name)"
   ]
  },
  {
   "cell_type": "code",
   "execution_count": null,
   "id": "42ad8065-ca3f-4a41-b2c6-9ec4b10f2f3b",
   "metadata": {},
   "outputs": [],
   "source": [
    " plot_dipole_comps_vs_Lambdas(case_dict_data, case_dict_mock"
   ]
  }
 ],
 "metadata": {
  "kernelspec": {
   "display_name": "jup_env",
   "language": "python",
   "name": "jup_env"
  },
  "language_info": {
   "codemirror_mode": {
    "name": "ipython",
    "version": 3
   },
   "file_extension": ".py",
   "mimetype": "text/x-python",
   "name": "python",
   "nbconvert_exporter": "python",
   "pygments_lexer": "ipython3",
   "version": "3.12.7"
  }
 },
 "nbformat": 4,
 "nbformat_minor": 5
}
